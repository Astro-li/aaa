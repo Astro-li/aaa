{
 "cells": [
  {
   "cell_type": "code",
   "execution_count": 2,
   "id": "plain-sessions",
   "metadata": {},
   "outputs": [
    {
     "name": "stdout",
     "output_type": "stream",
     "text": [
      "Populating the interactive namespace from numpy and matplotlib\n"
     ]
    }
   ],
   "source": [
    "%pylab inline\n",
    "from astropy.io import fits\n",
    "from astropy.utils.data import get_pkg_data_filename\n",
    "from astropy.table import Table\n",
    "from astropy.wcs import WCS"
   ]
  },
  {
   "cell_type": "code",
   "execution_count": 2,
   "id": "lovely-silver",
   "metadata": {},
   "outputs": [],
   "source": [
    "hst_125w = fits.open('../boss1244_mosaics_coadd/boss1244_DR210308-f125w_drz_sci.fits.gz')\n",
    "hst_160w = fits.open('../boss1244_mosaics_coadd/boss1244_DR210308-f160w_drz_sci.fits.gz')"
   ]
  },
  {
   "cell_type": "code",
   "execution_count": 43,
   "id": "backed-stick",
   "metadata": {},
   "outputs": [],
   "source": [
    "boss_u = fits.open('../coadd_data/BOSS1244_U_2.fits')\n",
    "boss_z = fits.open('../LBC_CFHT_1244_1542/BOSS1244_z.cat.fits')"
   ]
  },
  {
   "cell_type": "code",
   "execution_count": 87,
   "id": "hydraulic-comedy",
   "metadata": {
    "collapsed": true,
    "jupyter": {
     "outputs_hidden": true
    }
   },
   "outputs": [
    {
     "data": {
      "text/plain": [
       "SIMPLE  =                    T / This is a FITS file                            \n",
       "BITPIX  =                  -32 /                                                \n",
       "NAXIS   =                    2 /                                                \n",
       "NAXIS1  =                 7500 / NUMBER OF ELEMENTS ALONG THIS AXIS             \n",
       "NAXIS2  =                 7500 / NUMBER OF ELEMENTS ALONG THIS AXIS             \n",
       "EXTEND  =                    T / This file may contain FITS extensions          \n",
       "EQUINOX =        2000.00000000 / Mean equinox                                   \n",
       "RADESYS = 'ICRS    '           / Astrometric system                             \n",
       "CTYPE1  = 'RA---TAN'           / WCS projection type for this axis              \n",
       "CUNIT1  = 'deg     '           / Axis unit                                      \n",
       "CRVAL1  =   1.909507916667E+02 / World coordinate on this axis                  \n",
       "CRPIX1  =   3.750500000000E+03 / Reference pixel on this axis                   \n",
       "CD1_1   =  -6.250000000000E-05 / Linear projection matrix                       \n",
       "CD1_2   =   0.000000000000E+00 / Linear projection matrix                       \n",
       "CTYPE2  = 'DEC--TAN'           / WCS projection type for this axis              \n",
       "CUNIT2  = 'deg     '           / Axis unit                                      \n",
       "CRVAL2  =   3.597100000000E+01 / World coordinate on this axis                  \n",
       "CRPIX2  =   3.750500000000E+03 / Reference pixel on this axis                   \n",
       "CD2_1   =   0.000000000000E+00 / Linear projection matrix                       \n",
       "CD2_2   =   6.250000000000E-05 / Linear projection matrix                       \n",
       "EXPTIME =   3.802820000000E+02 / Maximum equivalent exposure time (s)           \n",
       "GAIN    =   1.750000000000E+00 / Maximum equivalent gain (e-/ADU)               \n",
       "SATURATE=   6.282687609794E+04 / Saturation Level (ADU)                         \n",
       "COMMENT                                                                         \n",
       "SOFTNAME= 'SWarp   '           / The software that processed those data         \n",
       "SOFTVERS= '2.38.0  '           / Version of the software                        \n",
       "SOFTDATE= '2017-05-10'         / Release date of the software                   \n",
       "SOFTAUTH= '2010-2012 IAP/CNRS/UPMC' / Maintainer of the software                \n",
       "SOFTINST= 'IAP  http://www.iap.fr' / Institute                                  \n",
       "COMMENT                                                                         \n",
       "AUTHOR  = 'zsw666  '           / Who ran the software                           \n",
       "ORIGIN  = 'venus.phys.tsinghua.edu.cn' / Where it was done                      \n",
       "DATE    = '2019-04-22T10:02:08' / When it was started (GMT)                     \n",
       "COMBINET= 'WEIGHTED'           / COMBINE_TYPE config parameter for SWarp        \n",
       "COMMENT                                                                         \n",
       "COMMENT  Propagated FITS keywords                                               \n",
       "OBJECT  = 'BOSS1244'           / Identifier observation title                   \n",
       "RDNOISE =   1.200000000000E+01 / Read Out Noise [e-]                            \n",
       "FILTER  = 'SDT_Uspe'           / Filter                                         \n",
       "AIRMASS =   1.029730000000E+00 / Airmass at start                               \n",
       "COMMENT                                                                         \n",
       "COMMENT  Axis-dependent config parameters                                       \n",
       "RESAMPT1= 'LANCZOS3'           / RESAMPLING_TYPE config parameter               \n",
       "CENTERT1= 'MANUAL  '           / CENTER_TYPE config parameter                   \n",
       "PSCALET1= 'MANUAL  '           / PIXELSCALE_TYPE config parameter               \n",
       "RESAMPT2= 'LANCZOS3'           / RESAMPLING_TYPE config parameter               \n",
       "CENTERT2= 'MANUAL  '           / CENTER_TYPE config parameter                   \n",
       "PSCALET2= 'MANUAL  '           / PIXELSCALE_TYPE config parameter               \n",
       "COMMENT                                                                         \n",
       "COMMENT  File-dependent config parameters                                       \n",
       "FILE0001= 'lbcb180515_LBT-2018A-C1639-1_01_01_ss.fits' / Input filename         \n",
       "WGHT0001= 'lbcb180515_LBT-2018A-C1639-1_01_01_ss.wht.fits' / Input weight-map   \n",
       "WGTT0001= 'MAP_WEIGHT'         / WEIGHT_TYPE config parameter                   \n",
       "INTF0001=                    F / INTERPOLATE config flag                        \n",
       "SUBF0001=                    F / SUBTRACT_BACK config flag                      \n",
       "BCKT0001= 'AUTO    '           / BACK_TYPE config parameter                     \n",
       "BCKS0001=                  512 / BACK_SIZE config parameter                     \n",
       "BKFS0001=                    3 / BACK_FILTERSIZE config parameter               \n",
       "FILE0002= 'lbcb180515_LBT-2018A-C1639-1_01_02_ss.fits' / Input filename         \n",
       "WGHT0002= 'lbcb180515_LBT-2018A-C1639-1_01_02_ss.wht.fits' / Input weight-map   \n",
       "WGTT0002= 'MAP_WEIGHT'         / WEIGHT_TYPE config parameter                   \n",
       "INTF0002=                    F / INTERPOLATE config flag                        \n",
       "SUBF0002=                    F / SUBTRACT_BACK config flag                      \n",
       "BCKT0002= 'AUTO    '           / BACK_TYPE config parameter                     \n",
       "BCKS0002=                  512 / BACK_SIZE config parameter                     \n",
       "BKFS0002=                    3 / BACK_FILTERSIZE config parameter               \n",
       "FILE0003= 'lbcb180515_LBT-2018A-C1639-1_01_03_ss.fits' / Input filename         \n",
       "WGHT0003= 'lbcb180515_LBT-2018A-C1639-1_01_03_ss.wht.fits' / Input weight-map   \n",
       "WGTT0003= 'MAP_WEIGHT'         / WEIGHT_TYPE config parameter                   \n",
       "INTF0003=                    F / INTERPOLATE config flag                        \n",
       "SUBF0003=                    F / SUBTRACT_BACK config flag                      \n",
       "BCKT0003= 'AUTO    '           / BACK_TYPE config parameter                     \n",
       "BCKS0003=                  512 / BACK_SIZE config parameter                     \n",
       "BKFS0003=                    3 / BACK_FILTERSIZE config parameter               \n",
       "FILE0004= 'lbcb180515_LBT-2018A-C1639-1_01_04_ss.fits' / Input filename         \n",
       "WGHT0004= 'lbcb180515_LBT-2018A-C1639-1_01_04_ss.wht.fits' / Input weight-map   \n",
       "WGTT0004= 'MAP_WEIGHT'         / WEIGHT_TYPE config parameter                   \n",
       "INTF0004=                    F / INTERPOLATE config flag                        \n",
       "SUBF0004=                    F / SUBTRACT_BACK config flag                      \n",
       "BCKT0004= 'AUTO    '           / BACK_TYPE config parameter                     \n",
       "BCKS0004=                  512 / BACK_SIZE config parameter                     \n",
       "BKFS0004=                    3 / BACK_FILTERSIZE config parameter               \n",
       "FILE0005= 'lbcb180515_LBT-2018A-C1639-1_02_01_ss.fits' / Input filename         \n",
       "WGHT0005= 'lbcb180515_LBT-2018A-C1639-1_02_01_ss.wht.fits' / Input weight-map   \n",
       "WGTT0005= 'MAP_WEIGHT'         / WEIGHT_TYPE config parameter                   \n",
       "INTF0005=                    F / INTERPOLATE config flag                        \n",
       "SUBF0005=                    F / SUBTRACT_BACK config flag                      \n",
       "BCKT0005= 'AUTO    '           / BACK_TYPE config parameter                     \n",
       "BCKS0005=                  512 / BACK_SIZE config parameter                     \n",
       "BKFS0005=                    3 / BACK_FILTERSIZE config parameter               \n",
       "FILE0006= 'lbcb180515_LBT-2018A-C1639-1_02_02_ss.fits' / Input filename         \n",
       "WGHT0006= 'lbcb180515_LBT-2018A-C1639-1_02_02_ss.wht.fits' / Input weight-map   \n",
       "WGTT0006= 'MAP_WEIGHT'         / WEIGHT_TYPE config parameter                   \n",
       "INTF0006=                    F / INTERPOLATE config flag                        \n",
       "SUBF0006=                    F / SUBTRACT_BACK config flag                      \n",
       "BCKT0006= 'AUTO    '           / BACK_TYPE config parameter                     \n",
       "BCKS0006=                  512 / BACK_SIZE config parameter                     \n",
       "BKFS0006=                    3 / BACK_FILTERSIZE config parameter               \n",
       "FILE0007= 'lbcb180515_LBT-2018A-C1639-1_02_03_ss.fits' / Input filename         \n",
       "WGHT0007= 'lbcb180515_LBT-2018A-C1639-1_02_03_ss.wht.fits' / Input weight-map   \n",
       "WGTT0007= 'MAP_WEIGHT'         / WEIGHT_TYPE config parameter                   \n",
       "INTF0007=                    F / INTERPOLATE config flag                        \n",
       "SUBF0007=                    F / SUBTRACT_BACK config flag                      \n",
       "BCKT0007= 'AUTO    '           / BACK_TYPE config parameter                     \n",
       "BCKS0007=                  512 / BACK_SIZE config parameter                     \n",
       "BKFS0007=                    3 / BACK_FILTERSIZE config parameter               \n",
       "FILE0008= 'lbcb180515_LBT-2018A-C1639-1_02_04_ss.fits' / Input filename         \n",
       "WGHT0008= 'lbcb180515_LBT-2018A-C1639-1_02_04_ss.wht.fits' / Input weight-map   \n",
       "WGTT0008= 'MAP_WEIGHT'         / WEIGHT_TYPE config parameter                   \n",
       "INTF0008=                    F / INTERPOLATE config flag                        \n",
       "SUBF0008=                    F / SUBTRACT_BACK config flag                      \n",
       "BCKT0008= 'AUTO    '           / BACK_TYPE config parameter                     \n",
       "BCKS0008=                  512 / BACK_SIZE config parameter                     \n",
       "BKFS0008=                    3 / BACK_FILTERSIZE config parameter               \n",
       "FILE0009= 'lbcb180515_LBT-2018A-C1639-1_03_01_ss.fits' / Input filename         \n",
       "WGHT0009= 'lbcb180515_LBT-2018A-C1639-1_03_01_ss.wht.fits' / Input weight-map   \n",
       "WGTT0009= 'MAP_WEIGHT'         / WEIGHT_TYPE config parameter                   \n",
       "INTF0009=                    F / INTERPOLATE config flag                        \n",
       "SUBF0009=                    F / SUBTRACT_BACK config flag                      \n",
       "BCKT0009= 'AUTO    '           / BACK_TYPE config parameter                     \n",
       "BCKS0009=                  512 / BACK_SIZE config parameter                     \n",
       "BKFS0009=                    3 / BACK_FILTERSIZE config parameter               \n",
       "FILE0010= 'lbcb180515_LBT-2018A-C1639-1_03_02_ss.fits' / Input filename         \n",
       "WGHT0010= 'lbcb180515_LBT-2018A-C1639-1_03_02_ss.wht.fits' / Input weight-map   \n",
       "WGTT0010= 'MAP_WEIGHT'         / WEIGHT_TYPE config parameter                   \n",
       "INTF0010=                    F / INTERPOLATE config flag                        \n",
       "SUBF0010=                    F / SUBTRACT_BACK config flag                      \n",
       "BCKT0010= 'AUTO    '           / BACK_TYPE config parameter                     \n",
       "BCKS0010=                  512 / BACK_SIZE config parameter                     \n",
       "BKFS0010=                    3 / BACK_FILTERSIZE config parameter               \n",
       "FILE0011= 'lbcb180515_LBT-2018A-C1639-1_03_03_ss.fits' / Input filename         \n",
       "WGHT0011= 'lbcb180515_LBT-2018A-C1639-1_03_03_ss.wht.fits' / Input weight-map   \n",
       "WGTT0011= 'MAP_WEIGHT'         / WEIGHT_TYPE config parameter                   \n",
       "INTF0011=                    F / INTERPOLATE config flag                        \n",
       "SUBF0011=                    F / SUBTRACT_BACK config flag                      \n",
       "BCKT0011= 'AUTO    '           / BACK_TYPE config parameter                     \n",
       "BCKS0011=                  512 / BACK_SIZE config parameter                     \n",
       "BKFS0011=                    3 / BACK_FILTERSIZE config parameter               \n",
       "FILE0012= 'lbcb180515_LBT-2018A-C1639-1_03_04_ss.fits' / Input filename         \n",
       "WGHT0012= 'lbcb180515_LBT-2018A-C1639-1_03_04_ss.wht.fits' / Input weight-map   \n",
       "WGTT0012= 'MAP_WEIGHT'         / WEIGHT_TYPE config parameter                   \n",
       "INTF0012=                    F / INTERPOLATE config flag                        \n",
       "SUBF0012=                    F / SUBTRACT_BACK config flag                      \n",
       "BCKT0012= 'AUTO    '           / BACK_TYPE config parameter                     \n",
       "BCKS0012=                  512 / BACK_SIZE config parameter                     \n",
       "BKFS0012=                    3 / BACK_FILTERSIZE config parameter               \n",
       "FILE0013= 'lbcb180515_LBT-2018A-C1639-1_04_01_ss.fits' / Input filename         \n",
       "WGHT0013= 'lbcb180515_LBT-2018A-C1639-1_04_01_ss.wht.fits' / Input weight-map   \n",
       "WGTT0013= 'MAP_WEIGHT'         / WEIGHT_TYPE config parameter                   \n",
       "INTF0013=                    F / INTERPOLATE config flag                        \n",
       "SUBF0013=                    F / SUBTRACT_BACK config flag                      \n",
       "BCKT0013= 'AUTO    '           / BACK_TYPE config parameter                     \n",
       "BCKS0013=                  512 / BACK_SIZE config parameter                     \n",
       "BKFS0013=                    3 / BACK_FILTERSIZE config parameter               \n",
       "FILE0014= 'lbcb180515_LBT-2018A-C1639-1_04_02_ss.fits' / Input filename         \n",
       "WGHT0014= 'lbcb180515_LBT-2018A-C1639-1_04_02_ss.wht.fits' / Input weight-map   \n",
       "WGTT0014= 'MAP_WEIGHT'         / WEIGHT_TYPE config parameter                   \n",
       "INTF0014=                    F / INTERPOLATE config flag                        \n",
       "SUBF0014=                    F / SUBTRACT_BACK config flag                      \n",
       "BCKT0014= 'AUTO    '           / BACK_TYPE config parameter                     \n",
       "BCKS0014=                  512 / BACK_SIZE config parameter                     \n",
       "BKFS0014=                    3 / BACK_FILTERSIZE config parameter               \n",
       "FILE0015= 'lbcb180515_LBT-2018A-C1639-1_04_03_ss.fits' / Input filename         \n",
       "WGHT0015= 'lbcb180515_LBT-2018A-C1639-1_04_03_ss.wht.fits' / Input weight-map   \n",
       "WGTT0015= 'MAP_WEIGHT'         / WEIGHT_TYPE config parameter                   \n",
       "INTF0015=                    F / INTERPOLATE config flag                        \n",
       "SUBF0015=                    F / SUBTRACT_BACK config flag                      \n",
       "BCKT0015= 'AUTO    '           / BACK_TYPE config parameter                     \n",
       "BCKS0015=                  512 / BACK_SIZE config parameter                     \n",
       "BKFS0015=                    3 / BACK_FILTERSIZE config parameter               \n",
       "FILE0016= 'lbcb180515_LBT-2018A-C1639-1_04_04_ss.fits' / Input filename         \n",
       "WGHT0016= 'lbcb180515_LBT-2018A-C1639-1_04_04_ss.wht.fits' / Input weight-map   \n",
       "WGTT0016= 'MAP_WEIGHT'         / WEIGHT_TYPE config parameter                   \n",
       "INTF0016=                    F / INTERPOLATE config flag                        \n",
       "SUBF0016=                    F / SUBTRACT_BACK config flag                      \n",
       "BCKT0016= 'AUTO    '           / BACK_TYPE config parameter                     \n",
       "BCKS0016=                  512 / BACK_SIZE config parameter                     \n",
       "BKFS0016=                    3 / BACK_FILTERSIZE config parameter               \n",
       "FILE0017= 'lbcb180515_LBT-2018A-C1639-1_05_02_ss.fits' / Input filename         \n",
       "WGHT0017= 'lbcb180515_LBT-2018A-C1639-1_05_02_ss.wht.fits' / Input weight-map   \n",
       "WGTT0017= 'MAP_WEIGHT'         / WEIGHT_TYPE config parameter                   \n",
       "INTF0017=                    F / INTERPOLATE config flag                        \n",
       "SUBF0017=                    F / SUBTRACT_BACK config flag                      \n",
       "BCKT0017= 'AUTO    '           / BACK_TYPE config parameter                     \n",
       "BCKS0017=                  512 / BACK_SIZE config parameter                     \n",
       "BKFS0017=                    3 / BACK_FILTERSIZE config parameter               \n",
       "FILE0018= 'lbcb180515_LBT-2018A-C1639-1_05_03_ss.fits' / Input filename         \n",
       "WGHT0018= 'lbcb180515_LBT-2018A-C1639-1_05_03_ss.wht.fits' / Input weight-map   \n",
       "WGTT0018= 'MAP_WEIGHT'         / WEIGHT_TYPE config parameter                   \n",
       "INTF0018=                    F / INTERPOLATE config flag                        \n",
       "SUBF0018=                    F / SUBTRACT_BACK config flag                      \n",
       "BCKT0018= 'AUTO    '           / BACK_TYPE config parameter                     \n",
       "BCKS0018=                  512 / BACK_SIZE config parameter                     \n",
       "BKFS0018=                    3 / BACK_FILTERSIZE config parameter               \n",
       "FILE0019= 'lbcb180515_LBT-2018A-C1639-1_05_04_ss.fits' / Input filename         \n",
       "WGHT0019= 'lbcb180515_LBT-2018A-C1639-1_05_04_ss.wht.fits' / Input weight-map   \n",
       "WGTT0019= 'MAP_WEIGHT'         / WEIGHT_TYPE config parameter                   \n",
       "INTF0019=                    F / INTERPOLATE config flag                        \n",
       "SUBF0019=                    F / SUBTRACT_BACK config flag                      \n",
       "BCKT0019= 'AUTO    '           / BACK_TYPE config parameter                     \n",
       "BCKS0019=                  512 / BACK_SIZE config parameter                     \n",
       "BKFS0019=                    3 / BACK_FILTERSIZE config parameter               \n",
       "FILE0020= 'lbcb180515_LBT-2018A-C1639-1_06_01_ss.fits' / Input filename         \n",
       "WGHT0020= 'lbcb180515_LBT-2018A-C1639-1_06_01_ss.wht.fits' / Input weight-map   \n",
       "WGTT0020= 'MAP_WEIGHT'         / WEIGHT_TYPE config parameter                   \n",
       "INTF0020=                    F / INTERPOLATE config flag                        \n",
       "SUBF0020=                    F / SUBTRACT_BACK config flag                      \n",
       "BCKT0020= 'AUTO    '           / BACK_TYPE config parameter                     \n",
       "BCKS0020=                  512 / BACK_SIZE config parameter                     \n",
       "BKFS0020=                    3 / BACK_FILTERSIZE config parameter               \n",
       "FILE0021= 'lbcb180515_LBT-2018A-C1639-1_06_02_ss.fits' / Input filename         \n",
       "WGHT0021= 'lbcb180515_LBT-2018A-C1639-1_06_02_ss.wht.fits' / Input weight-map   \n",
       "WGTT0021= 'MAP_WEIGHT'         / WEIGHT_TYPE config parameter                   \n",
       "INTF0021=                    F / INTERPOLATE config flag                        \n",
       "SUBF0021=                    F / SUBTRACT_BACK config flag                      \n",
       "BCKT0021= 'AUTO    '           / BACK_TYPE config parameter                     \n",
       "BCKS0021=                  512 / BACK_SIZE config parameter                     \n",
       "BKFS0021=                    3 / BACK_FILTERSIZE config parameter               \n",
       "FILE0022= 'lbcb180515_LBT-2018A-C1639-1_06_03_ss.fits' / Input filename         \n",
       "WGHT0022= 'lbcb180515_LBT-2018A-C1639-1_06_03_ss.wht.fits' / Input weight-map   \n",
       "WGTT0022= 'MAP_WEIGHT'         / WEIGHT_TYPE config parameter                   \n",
       "INTF0022=                    F / INTERPOLATE config flag                        \n",
       "SUBF0022=                    F / SUBTRACT_BACK config flag                      \n",
       "BCKT0022= 'AUTO    '           / BACK_TYPE config parameter                     \n",
       "BCKS0022=                  512 / BACK_SIZE config parameter                     \n",
       "BKFS0022=                    3 / BACK_FILTERSIZE config parameter               \n",
       "FILE0023= 'lbcb180515_LBT-2018A-C1639-1_06_04_ss.fits' / Input filename         \n",
       "WGHT0023= 'lbcb180515_LBT-2018A-C1639-1_06_04_ss.wht.fits' / Input weight-map   \n",
       "WGTT0023= 'MAP_WEIGHT'         / WEIGHT_TYPE config parameter                   \n",
       "INTF0023=                    F / INTERPOLATE config flag                        \n",
       "SUBF0023=                    F / SUBTRACT_BACK config flag                      \n",
       "BCKT0023= 'AUTO    '           / BACK_TYPE config parameter                     \n",
       "BCKS0023=                  512 / BACK_SIZE config parameter                     \n",
       "BKFS0023=                    3 / BACK_FILTERSIZE config parameter               \n",
       "FILE0024= 'lbcb180515_LBT-2018A-C1639-1_07_01_ss.fits' / Input filename         \n",
       "WGHT0024= 'lbcb180515_LBT-2018A-C1639-1_07_01_ss.wht.fits' / Input weight-map   \n",
       "WGTT0024= 'MAP_WEIGHT'         / WEIGHT_TYPE config parameter                   \n",
       "INTF0024=                    F / INTERPOLATE config flag                        \n",
       "SUBF0024=                    F / SUBTRACT_BACK config flag                      \n",
       "BCKT0024= 'AUTO    '           / BACK_TYPE config parameter                     \n",
       "BCKS0024=                  512 / BACK_SIZE config parameter                     \n",
       "BKFS0024=                    3 / BACK_FILTERSIZE config parameter               \n",
       "FILE0025= 'lbcb180515_LBT-2018A-C1639-1_07_02_ss.fits' / Input filename         \n",
       "WGHT0025= 'lbcb180515_LBT-2018A-C1639-1_07_02_ss.wht.fits' / Input weight-map   \n",
       "WGTT0025= 'MAP_WEIGHT'         / WEIGHT_TYPE config parameter                   \n",
       "INTF0025=                    F / INTERPOLATE config flag                        \n",
       "SUBF0025=                    F / SUBTRACT_BACK config flag                      \n",
       "BCKT0025= 'AUTO    '           / BACK_TYPE config parameter                     \n",
       "BCKS0025=                  512 / BACK_SIZE config parameter                     \n",
       "BKFS0025=                    3 / BACK_FILTERSIZE config parameter               \n",
       "FILE0026= 'lbcb180515_LBT-2018A-C1639-1_07_03_ss.fits' / Input filename         \n",
       "WGHT0026= 'lbcb180515_LBT-2018A-C1639-1_07_03_ss.wht.fits' / Input weight-map   \n",
       "WGTT0026= 'MAP_WEIGHT'         / WEIGHT_TYPE config parameter                   \n",
       "INTF0026=                    F / INTERPOLATE config flag                        \n",
       "SUBF0026=                    F / SUBTRACT_BACK config flag                      \n",
       "BCKT0026= 'AUTO    '           / BACK_TYPE config parameter                     \n",
       "BCKS0026=                  512 / BACK_SIZE config parameter                     \n",
       "BKFS0026=                    3 / BACK_FILTERSIZE config parameter               \n",
       "FILE0027= 'lbcb180515_LBT-2018A-C1639-1_07_04_ss.fits' / Input filename         \n",
       "WGHT0027= 'lbcb180515_LBT-2018A-C1639-1_07_04_ss.wht.fits' / Input weight-map   \n",
       "WGTT0027= 'MAP_WEIGHT'         / WEIGHT_TYPE config parameter                   \n",
       "INTF0027=                    F / INTERPOLATE config flag                        \n",
       "SUBF0027=                    F / SUBTRACT_BACK config flag                      \n",
       "BCKT0027= 'AUTO    '           / BACK_TYPE config parameter                     \n",
       "BCKS0027=                  512 / BACK_SIZE config parameter                     \n",
       "BKFS0027=                    3 / BACK_FILTERSIZE config parameter               \n",
       "FILE0028= 'lbcb180515_LBT-2018A-C1639-1_08_01_ss.fits' / Input filename         \n",
       "WGHT0028= 'lbcb180515_LBT-2018A-C1639-1_08_01_ss.wht.fits' / Input weight-map   \n",
       "WGTT0028= 'MAP_WEIGHT'         / WEIGHT_TYPE config parameter                   \n",
       "INTF0028=                    F / INTERPOLATE config flag                        \n",
       "SUBF0028=                    F / SUBTRACT_BACK config flag                      \n",
       "BCKT0028= 'AUTO    '           / BACK_TYPE config parameter                     \n",
       "BCKS0028=                  512 / BACK_SIZE config parameter                     \n",
       "BKFS0028=                    3 / BACK_FILTERSIZE config parameter               \n",
       "FILE0029= 'lbcb180515_LBT-2018A-C1639-1_08_02_ss.fits' / Input filename         \n",
       "WGHT0029= 'lbcb180515_LBT-2018A-C1639-1_08_02_ss.wht.fits' / Input weight-map   \n",
       "WGTT0029= 'MAP_WEIGHT'         / WEIGHT_TYPE config parameter                   \n",
       "INTF0029=                    F / INTERPOLATE config flag                        \n",
       "SUBF0029=                    F / SUBTRACT_BACK config flag                      \n",
       "BCKT0029= 'AUTO    '           / BACK_TYPE config parameter                     \n",
       "BCKS0029=                  512 / BACK_SIZE config parameter                     \n",
       "BKFS0029=                    3 / BACK_FILTERSIZE config parameter               \n",
       "FILE0030= 'lbcb180515_LBT-2018A-C1639-1_08_03_ss.fits' / Input filename         \n",
       "WGHT0030= 'lbcb180515_LBT-2018A-C1639-1_08_03_ss.wht.fits' / Input weight-map   \n",
       "WGTT0030= 'MAP_WEIGHT'         / WEIGHT_TYPE config parameter                   \n",
       "INTF0030=                    F / INTERPOLATE config flag                        \n",
       "SUBF0030=                    F / SUBTRACT_BACK config flag                      \n",
       "BCKT0030= 'AUTO    '           / BACK_TYPE config parameter                     \n",
       "BCKS0030=                  512 / BACK_SIZE config parameter                     \n",
       "BKFS0030=                    3 / BACK_FILTERSIZE config parameter               \n",
       "FILE0031= 'lbcb180515_LBT-2018A-C1639-1_08_04_ss.fits' / Input filename         \n",
       "WGHT0031= 'lbcb180515_LBT-2018A-C1639-1_08_04_ss.wht.fits' / Input weight-map   \n",
       "WGTT0031= 'MAP_WEIGHT'         / WEIGHT_TYPE config parameter                   \n",
       "INTF0031=                    F / INTERPOLATE config flag                        \n",
       "SUBF0031=                    F / SUBTRACT_BACK config flag                      \n",
       "BCKT0031= 'AUTO    '           / BACK_TYPE config parameter                     \n",
       "BCKS0031=                  512 / BACK_SIZE config parameter                     \n",
       "BKFS0031=                    3 / BACK_FILTERSIZE config parameter               \n",
       "FILE0032= 'lbcb180515_LBT-2018A-C1639-1_09_01_ss.fits' / Input filename         \n",
       "WGHT0032= 'lbcb180515_LBT-2018A-C1639-1_09_01_ss.wht.fits' / Input weight-map   \n",
       "WGTT0032= 'MAP_WEIGHT'         / WEIGHT_TYPE config parameter                   \n",
       "INTF0032=                    F / INTERPOLATE config flag                        \n",
       "SUBF0032=                    F / SUBTRACT_BACK config flag                      \n",
       "BCKT0032= 'AUTO    '           / BACK_TYPE config parameter                     \n",
       "BCKS0032=                  512 / BACK_SIZE config parameter                     \n",
       "BKFS0032=                    3 / BACK_FILTERSIZE config parameter               \n",
       "FILE0033= 'lbcb180515_LBT-2018A-C1639-1_09_02_ss.fits' / Input filename         \n",
       "WGHT0033= 'lbcb180515_LBT-2018A-C1639-1_09_02_ss.wht.fits' / Input weight-map   \n",
       "WGTT0033= 'MAP_WEIGHT'         / WEIGHT_TYPE config parameter                   \n",
       "INTF0033=                    F / INTERPOLATE config flag                        \n",
       "SUBF0033=                    F / SUBTRACT_BACK config flag                      \n",
       "BCKT0033= 'AUTO    '           / BACK_TYPE config parameter                     \n",
       "BCKS0033=                  512 / BACK_SIZE config parameter                     \n",
       "BKFS0033=                    3 / BACK_FILTERSIZE config parameter               \n",
       "FILE0034= 'lbcb180515_LBT-2018A-C1639-1_09_03_ss.fits' / Input filename         \n",
       "WGHT0034= 'lbcb180515_LBT-2018A-C1639-1_09_03_ss.wht.fits' / Input weight-map   \n",
       "WGTT0034= 'MAP_WEIGHT'         / WEIGHT_TYPE config parameter                   \n",
       "INTF0034=                    F / INTERPOLATE config flag                        \n",
       "SUBF0034=                    F / SUBTRACT_BACK config flag                      \n",
       "BCKT0034= 'AUTO    '           / BACK_TYPE config parameter                     \n",
       "BCKS0034=                  512 / BACK_SIZE config parameter                     \n",
       "BKFS0034=                    3 / BACK_FILTERSIZE config parameter               \n",
       "FILE0035= 'lbcb180515_LBT-2018A-C1639-1_09_04_ss.fits' / Input filename         \n",
       "WGHT0035= 'lbcb180515_LBT-2018A-C1639-1_09_04_ss.wht.fits' / Input weight-map   \n",
       "WGTT0035= 'MAP_WEIGHT'         / WEIGHT_TYPE config parameter                   \n",
       "INTF0035=                    F / INTERPOLATE config flag                        \n",
       "SUBF0035=                    F / SUBTRACT_BACK config flag                      \n",
       "BCKT0035= 'AUTO    '           / BACK_TYPE config parameter                     \n",
       "BCKS0035=                  512 / BACK_SIZE config parameter                     \n",
       "BKFS0035=                    3 / BACK_FILTERSIZE config parameter               \n",
       "FILE0036= 'lbcb180515_LBT-2018A-C1639-1_10_01_ss.fits' / Input filename         \n",
       "WGHT0036= 'lbcb180515_LBT-2018A-C1639-1_10_01_ss.wht.fits' / Input weight-map   \n",
       "WGTT0036= 'MAP_WEIGHT'         / WEIGHT_TYPE config parameter                   \n",
       "INTF0036=                    F / INTERPOLATE config flag                        \n",
       "SUBF0036=                    F / SUBTRACT_BACK config flag                      \n",
       "BCKT0036= 'AUTO    '           / BACK_TYPE config parameter                     \n",
       "BCKS0036=                  512 / BACK_SIZE config parameter                     \n",
       "BKFS0036=                    3 / BACK_FILTERSIZE config parameter               \n",
       "FILE0037= 'lbcb180515_LBT-2018A-C1639-1_10_02_ss.fits' / Input filename         \n",
       "WGHT0037= 'lbcb180515_LBT-2018A-C1639-1_10_02_ss.wht.fits' / Input weight-map   \n",
       "WGTT0037= 'MAP_WEIGHT'         / WEIGHT_TYPE config parameter                   \n",
       "INTF0037=                    F / INTERPOLATE config flag                        \n",
       "SUBF0037=                    F / SUBTRACT_BACK config flag                      \n",
       "BCKT0037= 'AUTO    '           / BACK_TYPE config parameter                     \n",
       "BCKS0037=                  512 / BACK_SIZE config parameter                     \n",
       "BKFS0037=                    3 / BACK_FILTERSIZE config parameter               \n",
       "FILE0038= 'lbcb180515_LBT-2018A-C1639-1_10_03_ss.fits' / Input filename         \n",
       "WGHT0038= 'lbcb180515_LBT-2018A-C1639-1_10_03_ss.wht.fits' / Input weight-map   \n",
       "WGTT0038= 'MAP_WEIGHT'         / WEIGHT_TYPE config parameter                   \n",
       "INTF0038=                    F / INTERPOLATE config flag                        \n",
       "SUBF0038=                    F / SUBTRACT_BACK config flag                      \n",
       "BCKT0038= 'AUTO    '           / BACK_TYPE config parameter                     \n",
       "BCKS0038=                  512 / BACK_SIZE config parameter                     \n",
       "BKFS0038=                    3 / BACK_FILTERSIZE config parameter               \n",
       "FILE0039= 'lbcb180515_LBT-2018A-C1639-1_10_04_ss.fits' / Input filename         \n",
       "WGHT0039= 'lbcb180515_LBT-2018A-C1639-1_10_04_ss.wht.fits' / Input weight-map   \n",
       "WGTT0039= 'MAP_WEIGHT'         / WEIGHT_TYPE config parameter                   \n",
       "INTF0039=                    F / INTERPOLATE config flag                        \n",
       "SUBF0039=                    F / SUBTRACT_BACK config flag                      \n",
       "BCKT0039= 'AUTO    '           / BACK_TYPE config parameter                     \n",
       "BCKS0039=                  512 / BACK_SIZE config parameter                     \n",
       "BKFS0039=                    3 / BACK_FILTERSIZE config parameter               \n",
       "FILE0040= 'lbcb180515_LBT-2018A-C1639-1_11_01_ss.fits' / Input filename         \n",
       "WGHT0040= 'lbcb180515_LBT-2018A-C1639-1_11_01_ss.wht.fits' / Input weight-map   \n",
       "WGTT0040= 'MAP_WEIGHT'         / WEIGHT_TYPE config parameter                   \n",
       "INTF0040=                    F / INTERPOLATE config flag                        \n",
       "SUBF0040=                    F / SUBTRACT_BACK config flag                      \n",
       "BCKT0040= 'AUTO    '           / BACK_TYPE config parameter                     \n",
       "BCKS0040=                  512 / BACK_SIZE config parameter                     \n",
       "BKFS0040=                    3 / BACK_FILTERSIZE config parameter               \n",
       "FILE0041= 'lbcb180515_LBT-2018A-C1639-1_11_02_ss.fits' / Input filename         \n",
       "WGHT0041= 'lbcb180515_LBT-2018A-C1639-1_11_02_ss.wht.fits' / Input weight-map   \n",
       "WGTT0041= 'MAP_WEIGHT'         / WEIGHT_TYPE config parameter                   \n",
       "INTF0041=                    F / INTERPOLATE config flag                        \n",
       "SUBF0041=                    F / SUBTRACT_BACK config flag                      \n",
       "BCKT0041= 'AUTO    '           / BACK_TYPE config parameter                     \n",
       "BCKS0041=                  512 / BACK_SIZE config parameter                     \n",
       "BKFS0041=                    3 / BACK_FILTERSIZE config parameter               \n",
       "FILE0042= 'lbcb180515_LBT-2018A-C1639-1_11_03_ss.fits' / Input filename         \n",
       "WGHT0042= 'lbcb180515_LBT-2018A-C1639-1_11_03_ss.wht.fits' / Input weight-map   \n",
       "WGTT0042= 'MAP_WEIGHT'         / WEIGHT_TYPE config parameter                   \n",
       "INTF0042=                    F / INTERPOLATE config flag                        \n",
       "SUBF0042=                    F / SUBTRACT_BACK config flag                      \n",
       "BCKT0042= 'AUTO    '           / BACK_TYPE config parameter                     \n",
       "BCKS0042=                  512 / BACK_SIZE config parameter                     \n",
       "BKFS0042=                    3 / BACK_FILTERSIZE config parameter               \n",
       "FILE0043= 'lbcb180515_LBT-2018A-C1639-1_11_04_ss.fits' / Input filename         \n",
       "WGHT0043= 'lbcb180515_LBT-2018A-C1639-1_11_04_ss.wht.fits' / Input weight-map   \n",
       "WGTT0043= 'MAP_WEIGHT'         / WEIGHT_TYPE config parameter                   \n",
       "INTF0043=                    F / INTERPOLATE config flag                        \n",
       "SUBF0043=                    F / SUBTRACT_BACK config flag                      \n",
       "BCKT0043= 'AUTO    '           / BACK_TYPE config parameter                     \n",
       "BCKS0043=                  512 / BACK_SIZE config parameter                     \n",
       "BKFS0043=                    3 / BACK_FILTERSIZE config parameter               "
      ]
     },
     "execution_count": 87,
     "metadata": {},
     "output_type": "execute_result"
    }
   ],
   "source": [
    "boss_u[0].header"
   ]
  },
  {
   "cell_type": "code",
   "execution_count": 20,
   "id": "clinical-content",
   "metadata": {},
   "outputs": [
    {
     "name": "stderr",
     "output_type": "stream",
     "text": [
      "INFO:acszpt.Query:Checking inputs...\n",
      "INFO:acszpt.Query:Submitting request to https://acszeropoints.stsci.edu/results_single/?date1=2017-01-01&detector=WFC&WFC_filter=F555W\n",
      "INFO:acszpt.Query:Parsing the response and formatting the results...\n"
     ]
    }
   ],
   "source": [
    "from acstools import acszpt\n",
    "from astropy.table import Table\n",
    "\n",
    "# Create some fake fluxes in electrons per second.\n",
    "instrumental_flux = np.array([5.2393, 7.2935, 3.2355, 4.9368])\n",
    "\n",
    "# Apply the correction from 0.2\" to infinity.\n",
    "# For F555W, the correction is 0.841\n",
    "correction_inf = 0.841\n",
    "flux_inf = instrumental_flux / correction_inf\n",
    "\n",
    "# Query the zeropoint calculator for the F555W zeropoint information\n",
    "q = acszpt.Query(date='2017-01-01', detector='WFC', filt='F555W')\n",
    "filter_zpt = q.fetch()\n",
    "\n",
    "# Now convert instrumental fluxes to physical fluxes and magnitudes.\n",
    "# F_lambda is the flux density in units of erg/sec/cm^2/Angstrom.\n",
    "F_lambda = flux_inf * filter_zpt['PHOTFLAM']\n",
    "m_st = -2.5 * np.log10(flux_inf) + filter_zpt['STmag'][0].value\n",
    "m_ab = -2.5 * np.log10(flux_inf) + filter_zpt['ABmag'][0].value\n",
    "m_vega = -2.5 * np.log10(flux_inf) + filter_zpt['VEGAmag'][0].value\n",
    "\n",
    "# Assemble the values into an Astropy Table. Note that we could\n",
    "# attach units to these columns, however advanced Astropy\n",
    "# Tables use is outside the scope of this example.\n",
    "phot_table = Table({'Measured Flux': instrumental_flux, 'F_lambda': F_lambda,\n",
    "                    'ST Mag': m_st, 'AB Mag': m_ab, 'Vega Mag': m_vega}, \n",
    "                   names=['Measured Flux', 'F_lambda', 'ST Mag', 'AB Mag', 'Vega Mag'])"
   ]
  },
  {
   "cell_type": "code",
   "execution_count": 21,
   "id": "victorian-triumph",
   "metadata": {},
   "outputs": [
    {
     "data": {
      "text/html": [
       "<i>Table length=4</i>\n",
       "<table id=\"table140594163244048\" class=\"table-striped table-bordered table-condensed\">\n",
       "<thead><tr><th>Measured Flux</th><th>F_lambda</th><th>ST Mag</th><th>AB Mag</th><th>Vega Mag</th></tr></thead>\n",
       "<thead><tr><th></th><th>erg / (Angstrom cm2 s)</th><th></th><th></th><th></th></tr></thead>\n",
       "<thead><tr><th>float64</th><th>float64</th><th>float64</th><th>float64</th><th>float64</th></tr></thead>\n",
       "<tr><td>5.2393</td><td>1.2341323781212844e-18</td><td>23.671806822820244</td><td>23.717806822820243</td><td>23.717806822820243</td></tr>\n",
       "<tr><td>7.2935</td><td>1.7180051724137931e-18</td><td>23.312650021267526</td><td>23.358650021267525</td><td>23.358650021267525</td></tr>\n",
       "<tr><td>3.2355</td><td>7.621314506539834e-19</td><td>24.195136479099215</td><td>24.241136479099215</td><td>24.241136479099215</td></tr>\n",
       "<tr><td>4.9368</td><td>1.1628776218787158e-18</td><td>23.736376155978956</td><td>23.782376155978955</td><td>23.782376155978955</td></tr>\n",
       "</table>"
      ],
      "text/plain": [
       "<Table length=4>\n",
       "Measured Flux        F_lambda        ...       AB Mag            Vega Mag     \n",
       "              erg / (Angstrom cm2 s) ...                                      \n",
       "   float64           float64         ...      float64            float64      \n",
       "------------- ---------------------- ... ------------------ ------------------\n",
       "       5.2393 1.2341323781212844e-18 ... 23.717806822820243 23.717806822820243\n",
       "       7.2935 1.7180051724137931e-18 ... 23.358650021267525 23.358650021267525\n",
       "       3.2355  7.621314506539834e-19 ... 24.241136479099215 24.241136479099215\n",
       "       4.9368 1.1628776218787158e-18 ... 23.782376155978955 23.782376155978955"
      ]
     },
     "execution_count": 21,
     "metadata": {},
     "output_type": "execute_result"
    }
   ],
   "source": [
    "phot_table"
   ]
  },
  {
   "cell_type": "code",
   "execution_count": 14,
   "id": "improving-graph",
   "metadata": {},
   "outputs": [
    {
     "data": {
      "text/latex": [
       "$[25.704] \\; \\mathrm{mag}$$\\mathrm{\\left( \\mathrm{AB} \\right)}$"
      ],
      "text/plain": [
       "<Magnitude [25.704] mag(AB)>"
      ]
     },
     "execution_count": 14,
     "metadata": {},
     "output_type": "execute_result"
    }
   ],
   "source": [
    "filter_zpt['ABmag']"
   ]
  },
  {
   "cell_type": "code",
   "execution_count": 11,
   "id": "loaded-spencer",
   "metadata": {},
   "outputs": [
    {
     "name": "stderr",
     "output_type": "stream",
     "text": [
      "INFO:acszpt.Query:Checking inputs...\n",
      "INFO:acszpt.Query:Submitting request to https://acszeropoints.stsci.edu/results_all/?date=2019-02-01&detector=HRC\n",
      "INFO:acszpt.Query:Parsing the response and formatting the results...\n"
     ]
    },
    {
     "data": {
      "text/html": [
       "<i>QTable length=17</i>\n",
       "<table id=\"table140594177664464\" class=\"table-striped table-bordered table-condensed\">\n",
       "<thead><tr><th>FILTER</th><th>PHOTPLAM</th><th>PHOTFLAM</th><th>STmag</th><th>VEGAmag</th><th>ABmag</th></tr></thead>\n",
       "<thead><tr><th></th><th>Angstrom</th><th>erg / (Angstrom cm2 s)</th><th>mag(ST)</th><th>mag</th><th>mag(AB)</th></tr></thead>\n",
       "<thead><tr><th>str9</th><th>float64</th><th>float64</th><th>float64</th><th>float64</th><th>float64</th></tr></thead>\n",
       "<tr><td>F220W</td><td>2256.2</td><td>8.466e-18</td><td>21.581</td><td>21.83</td><td>23.506</td></tr>\n",
       "<tr><td>F250W</td><td>2716.8</td><td>4.815e-18</td><td>22.193</td><td>22.222</td><td>23.715</td></tr>\n",
       "<tr><td>F330W</td><td>3363.0</td><td>2.273e-18</td><td>23.008</td><td>22.882</td><td>24.067</td></tr>\n",
       "<tr><td>F344N</td><td>3433.8</td><td>2.261e-17</td><td>20.514</td><td>20.375</td><td>21.528</td></tr>\n",
       "<tr><td>F435W</td><td>4323.1</td><td>5.373e-19</td><td>24.574</td><td>25.171</td><td>25.087</td></tr>\n",
       "<tr><td>F475W</td><td>4775.7</td><td>2.941e-19</td><td>25.229</td><td>25.614</td><td>25.526</td></tr>\n",
       "<tr><td>F502N</td><td>5022.9</td><td>8.122e-18</td><td>21.626</td><td>21.893</td><td>21.813</td></tr>\n",
       "<tr><td>F550M</td><td>5579.8</td><td>5.899e-19</td><td>24.473</td><td>24.402</td><td>24.432</td></tr>\n",
       "<tr><td>F555W</td><td>5355.7</td><td>3.041e-19</td><td>25.192</td><td>25.241</td><td>25.24</td></tr>\n",
       "<tr><td>F606W</td><td>5887.1</td><td>1.281e-19</td><td>26.131</td><td>25.887</td><td>25.974</td></tr>\n",
       "<tr><td>F625W</td><td>6295.2</td><td>1.977e-19</td><td>25.66</td><td>25.191</td><td>25.357</td></tr>\n",
       "<tr><td>F658N</td><td>6583.7</td><td>3.396e-18</td><td>22.573</td><td>21.79</td><td>22.172</td></tr>\n",
       "<tr><td>F660N</td><td>6599.0</td><td>8.954e-18</td><td>21.52</td><td>20.829</td><td>21.115</td></tr>\n",
       "<tr><td>F775W</td><td>7665.1</td><td>1.954e-19</td><td>25.673</td><td>24.552</td><td>24.942</td></tr>\n",
       "<tr><td>F814W</td><td>8100.5</td><td>1.293e-19</td><td>26.121</td><td>24.84</td><td>25.27</td></tr>\n",
       "<tr><td>F850LP</td><td>9143.9</td><td>2.271e-19</td><td>25.51</td><td>23.868</td><td>24.396</td></tr>\n",
       "<tr><td>F892N</td><td>8916.1</td><td>2.454e-18</td><td>22.925</td><td>21.372</td><td>21.866</td></tr>\n",
       "</table>"
      ],
      "text/plain": [
       "<QTable length=17>\n",
       "FILTER PHOTPLAM        PHOTFLAM         STmag  VEGAmag  ABmag \n",
       "       Angstrom erg / (Angstrom cm2 s) mag(ST)   mag   mag(AB)\n",
       " str9  float64         float64         float64 float64 float64\n",
       "------ -------- ---------------------- ------- ------- -------\n",
       " F220W   2256.2              8.466e-18  21.581   21.83  23.506\n",
       " F250W   2716.8              4.815e-18  22.193  22.222  23.715\n",
       " F330W   3363.0              2.273e-18  23.008  22.882  24.067\n",
       " F344N   3433.8              2.261e-17  20.514  20.375  21.528\n",
       " F435W   4323.1              5.373e-19  24.574  25.171  25.087\n",
       " F475W   4775.7              2.941e-19  25.229  25.614  25.526\n",
       " F502N   5022.9              8.122e-18  21.626  21.893  21.813\n",
       " F550M   5579.8              5.899e-19  24.473  24.402  24.432\n",
       " F555W   5355.7              3.041e-19  25.192  25.241   25.24\n",
       " F606W   5887.1              1.281e-19  26.131  25.887  25.974\n",
       " F625W   6295.2              1.977e-19   25.66  25.191  25.357\n",
       " F658N   6583.7              3.396e-18  22.573   21.79  22.172\n",
       " F660N   6599.0              8.954e-18   21.52  20.829  21.115\n",
       " F775W   7665.1              1.954e-19  25.673  24.552  24.942\n",
       " F814W   8100.5              1.293e-19  26.121   24.84   25.27\n",
       "F850LP   9143.9              2.271e-19   25.51  23.868  24.396\n",
       " F892N   8916.1              2.454e-18  22.925  21.372  21.866"
      ]
     },
     "execution_count": 11,
     "metadata": {},
     "output_type": "execute_result"
    }
   ],
   "source": [
    "q = acszpt.Query(date='2019-02-01', detector='HRC')\n",
    "q.fetch()"
   ]
  },
  {
   "cell_type": "code",
   "execution_count": 64,
   "id": "center-batman",
   "metadata": {},
   "outputs": [],
   "source": [
    "jh = Table.read('../LBC_CFHT_1244_1542/boss1244_DR210308_zq_2to2.5_phot.fits')"
   ]
  },
  {
   "cell_type": "markdown",
   "id": "incomplete-pollution",
   "metadata": {},
   "source": [
    "$$ ZP_{AB} = -2.5*log_{10}( PHOTFLAM )-5*log_{10}⁡( PHOTPLAM )-2.408 $$"
   ]
  },
  {
   "cell_type": "code",
   "execution_count": 3,
   "id": "corrected-meeting",
   "metadata": {},
   "outputs": [],
   "source": [
    "PHOTFLAM_125w = hst_125w[0].header['PHOTFLAM']\n",
    "PHOTPLAM_125w = hst_125w[0].header['PHOTPLAM']\n",
    "\n",
    "PHOTFLAM_160w = hst_160w[0].header['PHOTFLAM']\n",
    "PHOTPLAM_160w = hst_160w[0].header['PHOTPLAM']"
   ]
  },
  {
   "cell_type": "code",
   "execution_count": 48,
   "id": "flying-yugoslavia",
   "metadata": {},
   "outputs": [],
   "source": [
    "# PHOTFLAM_u = boss_u[0].header['PHOTFLAM']\n",
    "# PHOTPLAM_u = boss_u[0].header['PHOTPLAM']\n",
    "\n",
    "# PHOTFLAM_z = boss_z[0].header['PHOTFLAM']\n",
    "# PHOTPLAM_z = boss_z[0].header['PHOTPLAM']"
   ]
  },
  {
   "cell_type": "code",
   "execution_count": 10,
   "id": "reported-forth",
   "metadata": {},
   "outputs": [
    {
     "data": {
      "text/plain": [
       "26.232025515839613"
      ]
     },
     "execution_count": 10,
     "metadata": {},
     "output_type": "execute_result"
    }
   ],
   "source": [
    "-2.5 * np.log10(10) + zp"
   ]
  },
  {
   "cell_type": "code",
   "execution_count": 4,
   "id": "equipped-bidder",
   "metadata": {},
   "outputs": [],
   "source": [
    "zp125 = -2.5*log10(PHOTFLAM_125w)-5*log10(PHOTPLAM_125w)-2.408"
   ]
  },
  {
   "cell_type": "code",
   "execution_count": 5,
   "id": "alpha-journalist",
   "metadata": {},
   "outputs": [],
   "source": [
    "zp160 = -2.5*log10(PHOTFLAM_160w)-5*log10(PHOTPLAM_160w)-2.408"
   ]
  },
  {
   "cell_type": "code",
   "execution_count": 13,
   "id": "functional-arkansas",
   "metadata": {},
   "outputs": [],
   "source": [
    "def mag2flux(mag,magerr):\n",
    "    return 10**(-(mag+48.6)/2.5)/(1e-23)*1e6,abs(magerr*10**(-(mag+48.6)/2.5)*log(10)*(-1/2.5)/(1e-23)*1e6)"
   ]
  },
  {
   "cell_type": "code",
   "execution_count": 15,
   "id": "special-monkey",
   "metadata": {},
   "outputs": [
    {
     "data": {
      "text/plain": [
       "(2.1453133051526203, 0.049163225549073465)"
      ]
     },
     "execution_count": 15,
     "metadata": {},
     "output_type": "execute_result"
    }
   ],
   "source": [
    "mag2flux(23.071273184382587,0.024881351266090024)"
   ]
  },
  {
   "cell_type": "code",
   "execution_count": 7,
   "id": "through-bosnia",
   "metadata": {},
   "outputs": [
    {
     "data": {
      "text/plain": [
       "25.175429904634132"
      ]
     },
     "execution_count": 7,
     "metadata": {},
     "output_type": "execute_result"
    }
   ],
   "source": [
    "-2.5*log10(2.03385)+zp160"
   ]
  },
  {
   "cell_type": "markdown",
   "id": "acquired-latter",
   "metadata": {},
   "source": [
    "$ABMag = -2.5\\times log_{10}(F_{\\nu})-48.60$"
   ]
  },
  {
   "cell_type": "code",
   "execution_count": 90,
   "id": "hispanic-latvia",
   "metadata": {},
   "outputs": [
    {
     "data": {
      "text/plain": [
       "22.922662232241557"
      ]
     },
     "execution_count": 90,
     "metadata": {},
     "output_type": "execute_result"
    }
   ],
   "source": [
    "-2.5*log10(2.46e-29)-48.6"
   ]
  },
  {
   "cell_type": "code",
   "execution_count": 10,
   "id": "employed-doubt",
   "metadata": {},
   "outputs": [
    {
     "data": {
      "text/plain": [
       "0.3372873086588679"
      ]
     },
     "execution_count": 10,
     "metadata": {},
     "output_type": "execute_result"
    }
   ],
   "source": [
    "10**(-(25.08+48.6)/2.5)/(1e-23)*1e6"
   ]
  },
  {
   "cell_type": "code",
   "execution_count": 9,
   "id": "eight-patrol",
   "metadata": {},
   "outputs": [
    {
     "data": {
      "text/plain": [
       "0.3372873086588679"
      ]
     },
     "execution_count": 9,
     "metadata": {},
     "output_type": "execute_result"
    }
   ],
   "source": [
    "fv/(1e-23)*1e6"
   ]
  },
  {
   "cell_type": "code",
   "execution_count": 94,
   "id": "exciting-blond",
   "metadata": {},
   "outputs": [
    {
     "data": {
      "text/plain": [
       "17.74718255844183"
      ]
     },
     "execution_count": 94,
     "metadata": {},
     "output_type": "execute_result"
    }
   ],
   "source": [
    "f = 0.0003\n",
    "f0 = 3767\n",
    "ff0 = f/f0\n",
    "-2.5/log(10)*(np.arcsinh(ff0/(2*1.4*1e-10))+log(1.4*1e-10))"
   ]
  },
  {
   "cell_type": "code",
   "execution_count": 75,
   "id": "editorial-usage",
   "metadata": {},
   "outputs": [
    {
     "data": {
      "text/plain": [
       "2.654632333421821e-11"
      ]
     },
     "execution_count": 75,
     "metadata": {},
     "output_type": "execute_result"
    }
   ],
   "source": [
    "ff0"
   ]
  },
  {
   "cell_type": "markdown",
   "id": "suited-mailman",
   "metadata": {},
   "source": [
    "f=2bf0 sinh(m/[-2.5/ln(10)] - ln(b))."
   ]
  },
  {
   "cell_type": "code",
   "execution_count": 79,
   "id": "indonesian-iceland",
   "metadata": {},
   "outputs": [
    {
     "data": {
      "text/plain": [
       "9.999999999999845e-08"
      ]
     },
     "execution_count": 79,
     "metadata": {},
     "output_type": "execute_result"
    }
   ],
   "source": [
    "def sinhmag2flux(mag):\n",
    "    return 2*1.4e-10*3767*np.sinh(mag/-2.5*log(10) - log(1.4e-10))"
   ]
  },
  {
   "cell_type": "code",
   "execution_count": 76,
   "id": "small-vermont",
   "metadata": {},
   "outputs": [
    {
     "data": {
      "text/html": [
       "<i>Table length=71</i>\n",
       "<table id=\"table140136682092624\" class=\"table-striped table-bordered table-condensed\">\n",
       "<thead><tr><th>mag_auto</th><th>flux_auto</th><th>f125w_flux_aper_5</th><th>f160w_flux_aper_5</th><th>f125w_flux_aper_6</th><th>f160w_flux_aper_6</th></tr></thead>\n",
       "<thead><tr><th>float64</th><th>float64</th><th>float64</th><th>float64</th><th>float64</th><th>float64</th></tr></thead>\n",
       "<tr><td>24.301357842016337</td><td>0.5841451739038096</td><td>0.47458038319799956</td><td>1.1186510348133758</td><td>0.3661069746143005</td><td>1.027766824598188</td></tr>\n",
       "<tr><td>23.071273184382587</td><td>2.033850212896325</td><td>1.7353048571156051</td><td>1.8149280317589394</td><td>2.007600432671645</td><td>2.2756489072864468</td></tr>\n",
       "<tr><td>25.024507854558873</td><td>0.3019121833063899</td><td>0.22800637838829355</td><td>0.37130923487075335</td><td>0.39973151714227345</td><td>0.31831511660906664</td></tr>\n",
       "<tr><td>23.72475344393505</td><td>1.0581556392077067</td><td>0.8576575008886258</td><td>1.2583876510817658</td><td>0.9136406908055624</td><td>1.4194496557153053</td></tr>\n",
       "<tr><td>22.10435758715997</td><td>4.790277080543313</td><td>2.9513844698448706</td><td>5.854544720535351</td><td>3.4485526274336875</td><td>6.498483173627896</td></tr>\n",
       "<tr><td>23.752760578302773</td><td>1.0203588871077853</td><td>0.8028852205273441</td><td>1.2881990971222521</td><td>0.8968382750144088</td><td>1.4438793599957405</td></tr>\n",
       "<tr><td>23.938332017654552</td><td>0.8680037518753478</td><td>0.5549170333851056</td><td>1.0443793195862254</td><td>0.5776704194954603</td><td>1.2047771216995267</td></tr>\n",
       "<tr><td>23.803850324700406</td><td>1.0101678022647207</td><td>0.8257856371429348</td><td>1.060652978763066</td><td>0.9897162859444201</td><td>1.2675433541499888</td></tr>\n",
       "<tr><td>22.925939588419162</td><td>2.366367534312082</td><td>0.77608597256259</td><td>1.6660937783827003</td><td>1.3599107015663698</td><td>2.918713325419548</td></tr>\n",
       "<tr><td>22.972322838182706</td><td>2.146223766206912</td><td>1.390812697748086</td><td>2.5211355027703317</td><td>1.5977596272589611</td><td>2.8154287516470267</td></tr>\n",
       "<tr><td>...</td><td>...</td><td>...</td><td>...</td><td>...</td><td>...</td></tr>\n",
       "<tr><td>24.273924398789283</td><td>0.6443778208624747</td><td>0.5529905792570367</td><td>0.6619970747911225</td><td>0.9509719948568283</td><td>1.0260675182190857</td></tr>\n",
       "<tr><td>24.141699564320525</td><td>0.7072745324736479</td><td>0.5544504667555473</td><td>0.8962661105610064</td><td>0.6969226422232976</td><td>1.0307782048530412</td></tr>\n",
       "<tr><td>22.366750753878172</td><td>3.8205523712468588</td><td>2.9258786096618885</td><td>3.9067231175934785</td><td>3.494645322447751</td><td>4.820955281035168</td></tr>\n",
       "<tr><td>23.898721310716468</td><td>0.8940049046492495</td><td>0.7658535053782138</td><td>1.0038053598179224</td><td>0.961456740055204</td><td>1.0234046113874251</td></tr>\n",
       "<tr><td>23.531958361786675</td><td>1.2751261796231206</td><td>1.0626886918438552</td><td>1.42688612759219</td><td>1.2177429734652276</td><td>1.7986461054031684</td></tr>\n",
       "<tr><td>23.748929318586324</td><td>1.0418040398562334</td><td>0.7238179832427872</td><td>1.188214559843219</td><td>0.8098302626954965</td><td>1.4187888858901756</td></tr>\n",
       "<tr><td>22.94757609416683</td><td>2.1921485909613656</td><td>1.9695830019553564</td><td>2.4870055023947324</td><td>2.078696629097263</td><td>2.7030013108311732</td></tr>\n",
       "<tr><td>23.438399713719257</td><td>1.364395483002695</td><td>1.010105004004102</td><td>1.6975291291172312</td><td>1.1362896936551101</td><td>1.8526476519864898</td></tr>\n",
       "<tr><td>23.656398233353112</td><td>1.1277230644494414</td><td>0.9172703807989444</td><td>1.1939389720215392</td><td>0.962623070294523</td><td>1.3618786898661381</td></tr>\n",
       "<tr><td>23.6492255690183</td><td>1.1422767047176439</td><td>0.9802958977660481</td><td>1.3069350718614197</td><td>1.2737715425623914</td><td>1.61695517255579</td></tr>\n",
       "</table>"
      ],
      "text/plain": [
       "<Table length=71>\n",
       "     mag_auto          flux_auto      ...  f160w_flux_aper_6 \n",
       "     float64            float64       ...       float64      \n",
       "------------------ ------------------ ... -------------------\n",
       "24.301357842016337 0.5841451739038096 ...   1.027766824598188\n",
       "23.071273184382587  2.033850212896325 ...  2.2756489072864468\n",
       "25.024507854558873 0.3019121833063899 ... 0.31831511660906664\n",
       " 23.72475344393505 1.0581556392077067 ...  1.4194496557153053\n",
       " 22.10435758715997  4.790277080543313 ...   6.498483173627896\n",
       "23.752760578302773 1.0203588871077853 ...  1.4438793599957405\n",
       "23.938332017654552 0.8680037518753478 ...  1.2047771216995267\n",
       "23.803850324700406 1.0101678022647207 ...  1.2675433541499888\n",
       "22.925939588419162  2.366367534312082 ...   2.918713325419548\n",
       "22.972322838182706  2.146223766206912 ...  2.8154287516470267\n",
       "               ...                ... ...                 ...\n",
       "24.273924398789283 0.6443778208624747 ...  1.0260675182190857\n",
       "24.141699564320525 0.7072745324736479 ...  1.0307782048530412\n",
       "22.366750753878172 3.8205523712468588 ...   4.820955281035168\n",
       "23.898721310716468 0.8940049046492495 ...  1.0234046113874251\n",
       "23.531958361786675 1.2751261796231206 ...  1.7986461054031684\n",
       "23.748929318586324 1.0418040398562334 ...  1.4187888858901756\n",
       " 22.94757609416683 2.1921485909613656 ...  2.7030013108311732\n",
       "23.438399713719257  1.364395483002695 ...  1.8526476519864898\n",
       "23.656398233353112 1.1277230644494414 ...  1.3618786898661381\n",
       "  23.6492255690183 1.1422767047176439 ...    1.61695517255579"
      ]
     },
     "execution_count": 76,
     "metadata": {},
     "output_type": "execute_result"
    }
   ],
   "source": [
    "jh['mag_auto','flux_auto','f125w_flux_aper_5','f160w_flux_aper_5','f125w_flux_aper_6','f160w_flux_aper_6']"
   ]
  }
 ],
 "metadata": {
  "kernelspec": {
   "display_name": "Tf_1",
   "language": "python",
   "name": "tf_1"
  },
  "language_info": {
   "codemirror_mode": {
    "name": "ipython",
    "version": 3
   },
   "file_extension": ".py",
   "mimetype": "text/x-python",
   "name": "python",
   "nbconvert_exporter": "python",
   "pygments_lexer": "ipython3",
   "version": "3.7.6"
  }
 },
 "nbformat": 4,
 "nbformat_minor": 5
}
