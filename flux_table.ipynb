{
 "cells": [
  {
   "cell_type": "code",
   "execution_count": 2,
   "id": "grateful-profit",
   "metadata": {},
   "outputs": [
    {
     "name": "stdout",
     "output_type": "stream",
     "text": [
      "Populating the interactive namespace from numpy and matplotlib\n"
     ]
    }
   ],
   "source": [
    "%pylab inline\n",
    "from astropy.io import fits\n",
    "from astropy.utils.data import get_pkg_data_filename\n",
    "from astropy.table import Table\n",
    "from astropy.wcs import WCS"
   ]
  },
  {
   "cell_type": "code",
   "execution_count": 38,
   "id": "improving-disclosure",
   "metadata": {},
   "outputs": [],
   "source": [
    "eazy = Table.read('boss1244_DR210308_zq_2to2.5_phot.fits')\n",
    "eazy = eazy['id','f125w_flux_aper_3','f125w_fluxerr_aper_3','f160w_flux_aper_3','f160w_fluxerr_aper_3']"
   ]
  },
  {
   "cell_type": "code",
   "execution_count": 17,
   "id": "distributed-refund",
   "metadata": {},
   "outputs": [],
   "source": [
    "jh = fits.open('../LBC_CFHT_1244_1542/boss1244_DR210308_zq_2to2.5_phot.fits')\n",
    "\n",
    "u1244 = fits.open('../LBC_CFHT_1244_1542/BOSS1244_U.cat.fits')\n",
    "z1244 = fits.open('../LBC_CFHT_1244_1542/BOSS1244_z.cat.fits')\n",
    "k1244 = loadtxt('../LBC_CFHT_1244_1542/j1244_emitter_50A_clean.cat')\n",
    "pecat = loadtxt('../LBC_CFHT_1244_1542/zq_2to2.5.pecat')\n",
    "pecat = pecat[argsort(pecat[:,0])]\n",
    "\n",
    "u1244_data = u1244[2].data\n",
    "z1244_data = z1244[2].data\n",
    "ra1244 = u1244_data[:]['X_WORLD']\n",
    "dec1244 = u1244_data[:]['Y_WORLD']\n",
    "\n",
    "magu = u1244_data[:]['MAG_BEST']\n",
    "magz = z1244_data[:]['MAG_BEST']\n",
    "magu_err = u1244_data[:]['MAGERR_BEST']\n",
    "magz_err = z1244_data[:]['MAGERR_BEST']\n",
    "magk = k1244[:,4]\n",
    "magk_err = k1244[:,5]\n",
    "magh = k1244[:,6]\n",
    "magh_err = k1244[:,7]\n",
    "\n",
    "\n",
    "# fluxu = u1244_data[:]['FLUX_BEST']\n",
    "# fluxz = z1244_data[:]['FLUX_BEST']\n",
    "# fluxu_err = u1244_data[:]['FLUXERR_BEST']\n",
    "# fluxz_err = z1244_data[:]['FLUXERR_BEST']\n",
    "# fluxk = k1244[:]\n",
    "# fluxk_err = k1244[:]\n",
    "\n",
    "hst_125w = fits.open('../boss1244_mosaics_coadd/boss1244_DR210308-f125w_drz_sci.fits.gz')\n",
    "hst_160w = fits.open('../boss1244_mosaics_coadd/boss1244_DR210308-f160w_drz_sci.fits.gz')\n",
    "\n",
    "PHOTFLAM_125w = hst_125w[0].header['PHOTFLAM']\n",
    "PHOTPLAM_125w = hst_125w[0].header['PHOTPLAM']\n",
    "\n",
    "PHOTFLAM_160w = hst_160w[0].header['PHOTFLAM']\n",
    "PHOTPLAM_160w = hst_160w[0].header['PHOTPLAM']\n",
    "\n",
    "zp125 = -2.5*log10(PHOTFLAM_125w)-5*log10(PHOTPLAM_125w)-2.408\n",
    "zp160 = -2.5*log10(PHOTFLAM_160w)-5*log10(PHOTPLAM_160w)-2.408\n",
    "\n",
    "flux125 = eazy['f125w_flux_aper_3']\n",
    "flux160 = eazy['f160w_flux_aper_3']\n",
    "\n",
    "def mag2flux(mag,magerr):\n",
    "    return 10**(-(mag+48.6)/2.5)/(1e-23)*1e6,abs(magerr*10**(-(mag+48.6)/2.5)*log(10)*(-1/2.5)/(1e-23)*1e6)"
   ]
  },
  {
   "cell_type": "code",
   "execution_count": 37,
   "id": "electric-lindsay",
   "metadata": {},
   "outputs": [],
   "source": [
    "mag125 = -2.5*log10(flux125/0.1)+zp125\n",
    "mag125_err = -2.5*log10(np.e)/mag125\n",
    "mag160 = -2.5*log10(flux160/0.1)+zp160\n",
    "mag160_err = -2.5*log10(np.e)/mag160\n",
    "\n",
    "flux125w,flux125w_err= mag2flux(mag125,mag125_err)\n",
    "flux160w,flux160w_err= mag2flux(mag160,mag160_err)"
   ]
  },
  {
   "cell_type": "code",
   "execution_count": 11,
   "id": "apart-armenia",
   "metadata": {},
   "outputs": [],
   "source": [
    "fluxu,fluxu_err= mag2flux(magu,magu_err)\n",
    "fluxz,fluxz_err= mag2flux(magz,magz_err)\n",
    "fluxk,fluxk_err= mag2flux(magk,magk_err)\n",
    "fluxh,fluxh_err= mag2flux(magh,magh_err)"
   ]
  },
  {
   "cell_type": "code",
   "execution_count": 54,
   "id": "fancy-semiconductor",
   "metadata": {},
   "outputs": [],
   "source": [
    "def sinhmag2flux(mag):\n",
    "    return 2*1.4e-10*3767*np.sinh(mag/-2.5*log(10) - log(1.4e-10))"
   ]
  },
  {
   "cell_type": "code",
   "execution_count": 12,
   "id": "mediterranean-disease",
   "metadata": {},
   "outputs": [],
   "source": [
    "idx_no_uz  = []\n",
    "idx_yes_orig1 = []\n",
    "idx_yes_uz = []\n",
    "for i,ra in enumerate(pecat[:,1]):\n",
    "    idx = where((ra1244-ra)**2+(dec1244-pecat[i,2])**2==((ra1244-ra)**2+(dec1244-pecat[i,2])**2).min())[0][0]\n",
    "    if (sqrt((ra1244-ra)**2+(dec1244-pecat[i,2])**2)).min()>0.5/3600:\n",
    "        idx_no_uz.append(i)\n",
    "    else:\n",
    "        idx_yes_orig1.append(i)\n",
    "        idx_yes_uz.append(idx)\n",
    "        \n",
    "fluxu_add = -99*ones(71)\n",
    "fluxu_err_add = -99*ones(71)\n",
    "fluxz_add = -99*ones(71)\n",
    "fluxz_err_add = -99*ones(71)\n",
    "fluxk_add = -99*ones(71)\n",
    "fluxk_err_add = -99*ones(71)\n",
    "fluxh_add = -99*ones(71)\n",
    "fluxh_err_add = -99*ones(71)\n",
    "\n",
    "fluxu_add[idx_yes_orig1] = fluxu[idx_yes_uz]\n",
    "fluxu_err_add[idx_yes_orig1] = fluxu_err[idx_yes_uz]\n",
    "fluxz_add[idx_yes_orig1] = fluxz[idx_yes_uz]\n",
    "fluxz_err_add[idx_yes_orig1] = fluxz_err[idx_yes_uz]\n",
    "\n",
    "idx_no_k = []\n",
    "idx_yes_k = []\n",
    "idx_yes_orig2 = []\n",
    "for i,ra in enumerate(pecat[:,1]):\n",
    "    idx = where((k1244[:,1]-ra)**2+(k1244[:,2]-pecat[i,2])**2==((k1244[:,1]-ra)**2+(k1244[:,2]-pecat[i,2])**2).min())[0][0]\n",
    "    if (sqrt((k1244[:,1]-ra)**2+(k1244[:,2]-pecat[i,2])**2)).min()>0.5/3600:\n",
    "        idx_no_k.append(i)\n",
    "    else:\n",
    "        idx_yes_k.append(idx)\n",
    "        idx_yes_orig2.append(i)\n",
    "fluxk_add[idx_yes_orig2] = fluxk[idx_yes_k]\n",
    "fluxk_err_add[idx_yes_orig2] = fluxk_err[idx_yes_k]\n",
    "\n",
    "fluxh_add[idx_yes_orig2] = fluxh[idx_yes_k]\n",
    "fluxh_err_add[idx_yes_orig2] = fluxh_err[idx_yes_k]\n"
   ]
  },
  {
   "cell_type": "code",
   "execution_count": 39,
   "id": "appreciated-vertical",
   "metadata": {},
   "outputs": [],
   "source": [
    "eazy.replace_column(name = 'f125w_flux_aper_3',col=flux125w)\n",
    "eazy.replace_column(name = 'f125w_fluxerr_aper_3',col=flux125w_err)\n",
    "\n",
    "eazy.replace_column(name = 'f160w_flux_aper_3',col=flux160w)\n",
    "eazy.replace_column(name = 'f160w_fluxerr_aper_3',col=flux160w_err)\n",
    "\n",
    "eazy.add_column(name = 'flux_best_U',col=fluxu_add)\n",
    "eazy.add_column(name = 'fluxerr_best_U',col=fluxu_err_add)\n",
    "\n",
    "eazy.add_column(name = 'flux_best_z',col=fluxz_add)\n",
    "eazy.add_column(name = 'fluxerr_best_z',col=fluxz_err_add)\n",
    "\n",
    "eazy.add_column(name = 'flux_best_Ks',col=fluxk_add)\n",
    "eazy.add_column(name = 'fluxerr_best_Ks',col=fluxk_err_add)\n",
    "\n",
    "# eazy.add_column(name = 'flux_best_H2',col=fluxh_add)\n",
    "# eazy.add_column(name = 'fluxerr_best_H2',col=fluxh_err_add)\n",
    "\n",
    "eazy.add_column(name ='z_spec',col=pecat[:,-2])"
   ]
  },
  {
   "cell_type": "code",
   "execution_count": 41,
   "id": "necessary-discount",
   "metadata": {},
   "outputs": [],
   "source": [
    "eazy.write('/home/zihao/win/学习/天体物理/eazy-photoz-master/inputs/boss2.cat',format='ascii.commented_header',overwrite=True)"
   ]
  },
  {
   "cell_type": "code",
   "execution_count": 40,
   "id": "devoted-purse",
   "metadata": {},
   "outputs": [
    {
     "data": {
      "text/html": [
       "<i>Table length=71</i>\n",
       "<table id=\"table139771113530320\" class=\"table-striped table-bordered table-condensed\">\n",
       "<thead><tr><th>id</th><th>f125w_flux_aper_3</th><th>f125w_fluxerr_aper_3</th><th>f160w_flux_aper_3</th><th>f160w_fluxerr_aper_3</th><th>flux_best_U</th><th>fluxerr_best_U</th><th>flux_best_z</th><th>fluxerr_best_z</th><th>flux_best_Ks</th><th>fluxerr_best_Ks</th><th>z_spec</th></tr></thead>\n",
       "<thead><tr><th>int32</th><th>float64</th><th>float64</th><th>float64</th><th>float64</th><th>float64</th><th>float64</th><th>float64</th><th>float64</th><th>float64</th><th>float64</th><th>float64</th></tr></thead>\n",
       "<tr><td>10</td><td>0.5622924626030109</td><td>0.02292722933862487</td><td>1.450459906993719</td><td>0.061731586576618175</td><td>0.061793550848960876</td><td>0.011667624115943909</td><td>0.31658628582954407</td><td>0.04719769209623337</td><td>-99.0</td><td>-99.0</td><td>2.0745</td></tr>\n",
       "<tr><td>61</td><td>1.3712307696642738</td><td>0.058208505021434154</td><td>1.8344225291837328</td><td>0.07892959311355181</td><td>2.1614320278167725</td><td>0.05200577527284622</td><td>1.9544097185134888</td><td>0.07338385283946991</td><td>-99.0</td><td>-99.0</td><td>2.0575</td></tr>\n",
       "<tr><td>119</td><td>0.25127540982881597</td><td>0.009892878716961755</td><td>0.5601217579665874</td><td>0.022834809694580446</td><td>-99.0</td><td>-99.0</td><td>-99.0</td><td>-99.0</td><td>-99.0</td><td>-99.0</td><td>2.0074</td></tr>\n",
       "<tr><td>211</td><td>0.9208648670826276</td><td>0.03838614702318788</td><td>1.6360050662629197</td><td>0.07001786301672555</td><td>0.12103328108787537</td><td>0.015996668487787247</td><td>0.6298847794532776</td><td>0.06470329314470291</td><td>-99.0</td><td>-99.0</td><td>2.436</td></tr>\n",
       "<tr><td>262</td><td>2.916086625557146</td><td>0.12824728474570207</td><td>7.600994341959509</td><td>0.3503113653268624</td><td>0.33733758330345154</td><td>0.022223200649023056</td><td>1.3031717538833618</td><td>0.08881016820669174</td><td>15.622840539708681</td><td>0.3352676119484324</td><td>2.2229</td></tr>\n",
       "<tr><td>284</td><td>0.828668436586837</td><td>0.03437880792240428</td><td>1.7247785726455884</td><td>0.07399889489639422</td><td>0.8140448331832886</td><td>0.01874999701976776</td><td>0.8078052997589111</td><td>0.06623725593090057</td><td>-99.0</td><td>-99.0</td><td>2.0064</td></tr>\n",
       "<tr><td>313</td><td>0.5293394042522122</td><td>0.021526030968291927</td><td>1.393728137108988</td><td>0.05920792245857245</td><td>0.15054941177368164</td><td>0.01321849413216114</td><td>0.3824283480644226</td><td>0.052004069089889526</td><td>1.74759180700884</td><td>0.1773769874195882</td><td>2.2273</td></tr>\n",
       "<tr><td>381</td><td>0.7424469640901762</td><td>0.03065007030836506</td><td>1.2548538351430094</td><td>0.05305146915332327</td><td>0.23810896277427673</td><td>0.01848226599395275</td><td>0.48493149876594543</td><td>0.07303189486265182</td><td>-99.0</td><td>-99.0</td><td>2.179</td></tr>\n",
       "<tr><td>382</td><td>0.595698144412204</td><td>0.024351547974127398</td><td>1.5784918089066238</td><td>0.06744424989349744</td><td>-99.0</td><td>-99.0</td><td>-99.0</td><td>-99.0</td><td>8.420153329554074</td><td>0.37845609336917724</td><td>2.2464</td></tr>\n",
       "<tr><td>467</td><td>1.3896554641086565</td><td>0.05902694110294612</td><td>3.264001315222846</td><td>0.14432505988739233</td><td>0.1088147684931755</td><td>0.014985187910497189</td><td>0.6219077706336975</td><td>0.06072065234184265</td><td>6.219564843271914</td><td>0.2847030165853919</td><td>2.2193</td></tr>\n",
       "<tr><td>...</td><td>...</td><td>...</td><td>...</td><td>...</td><td>...</td><td>...</td><td>...</td><td>...</td><td>...</td><td>...</td><td>...</td></tr>\n",
       "<tr><td>3196</td><td>0.5474330982485021</td><td>0.022294911430149614</td><td>0.8771130676630592</td><td>0.03648198552403958</td><td>0.20282846689224243</td><td>0.021395809948444366</td><td>0.3812159299850464</td><td>0.04327096790075302</td><td>-99.0</td><td>-99.0</td><td>2.2417</td></tr>\n",
       "<tr><td>3261</td><td>0.5447646893862567</td><td>0.0221814444788338</td><td>1.2468649292635443</td><td>0.05269827291905436</td><td>0.038397327065467834</td><td>0.011033855378627777</td><td>0.2673887014389038</td><td>0.0449787899851799</td><td>-99.0</td><td>-99.0</td><td>2.2535</td></tr>\n",
       "<tr><td>3276</td><td>2.798837780992873</td><td>0.12285003580042436</td><td>4.7782064121915475</td><td>0.21521670726702893</td><td>0.8335814476013184</td><td>0.03167908266186714</td><td>2.643528461456299</td><td>0.07673907279968262</td><td>6.952163864388229</td><td>0.3086332543715459</td><td>2.2074</td></tr>\n",
       "<tr><td>3331</td><td>0.7663760416583864</td><td>0.03168297002721904</td><td>1.3535537952799956</td><td>0.0574237802865194</td><td>0.23311638832092285</td><td>0.013770323246717453</td><td>0.5303582549095154</td><td>0.05311008542776108</td><td>2.084298903233054</td><td>0.19446664666077348</td><td>2.223</td></tr>\n",
       "<tr><td>3340</td><td>1.0373569130140732</td><td>0.04347649243825874</td><td>1.8479674395724965</td><td>0.07953972470861934</td><td>0.23031075298786163</td><td>0.014329135417938232</td><td>0.6803421974182129</td><td>0.055935535579919815</td><td>3.7945475552358126</td><td>0.2813400500580441</td><td>2.2346</td></tr>\n",
       "<tr><td>3385</td><td>0.7813057158495142</td><td>0.03232817830195086</td><td>1.6368379400158282</td><td>0.07005516521773295</td><td>0.12562642991542816</td><td>0.020137641578912735</td><td>0.5112096667289734</td><td>0.08149570226669312</td><td>-99.0</td><td>-99.0</td><td>2.3004</td></tr>\n",
       "<tr><td>3480</td><td>1.89526558724869</td><td>0.08167197688470751</td><td>3.089145574456428</td><td>0.13623331984904813</td><td>0.41142821311950684</td><td>0.018070390447974205</td><td>1.5229641199111938</td><td>0.07071325927972794</td><td>-99.0</td><td>-99.0</td><td>2.1462</td></tr>\n",
       "<tr><td>3495</td><td>1.118239552131933</td><td>0.04702701568692281</td><td>2.3196485650389116</td><td>0.10091376085603321</td><td>0.07776723057031631</td><td>0.017610149458050728</td><td>0.6821373701095581</td><td>0.07207867503166199</td><td>2.789202205873889</td><td>0.20397464335798055</td><td>2.2312</td></tr>\n",
       "<tr><td>3496</td><td>0.8560218224815838</td><td>0.03556563902196996</td><td>1.493961207067117</td><td>0.06366994325007241</td><td>0.22163885831832886</td><td>0.016384510323405266</td><td>0.5650596022605896</td><td>0.06456892937421799</td><td>-99.0</td><td>-99.0</td><td>2.2358</td></tr>\n",
       "<tr><td>3516</td><td>0.9453089578354528</td><td>0.03945187475927568</td><td>1.6761319651973372</td><td>0.07181607973496786</td><td>0.15457606315612793</td><td>0.019239377230405807</td><td>0.852212131023407</td><td>0.07799152284860611</td><td>2.0943053396183378</td><td>0.17244602928534472</td><td>2.2339</td></tr>\n",
       "</table>"
      ],
      "text/plain": [
       "<Table length=71>\n",
       "  id   f125w_flux_aper_3  f125w_fluxerr_aper_3 ...   fluxerr_best_Ks    z_spec\n",
       "int32       float64             float64        ...       float64       float64\n",
       "----- ------------------- -------------------- ... ------------------- -------\n",
       "   10  0.5622924626030109  0.02292722933862487 ...               -99.0  2.0745\n",
       "   61  1.3712307696642738 0.058208505021434154 ...               -99.0  2.0575\n",
       "  119 0.25127540982881597 0.009892878716961755 ...               -99.0  2.0074\n",
       "  211  0.9208648670826276  0.03838614702318788 ...               -99.0   2.436\n",
       "  262   2.916086625557146  0.12824728474570207 ...  0.3352676119484324  2.2229\n",
       "  284   0.828668436586837  0.03437880792240428 ...               -99.0  2.0064\n",
       "  313  0.5293394042522122 0.021526030968291927 ...  0.1773769874195882  2.2273\n",
       "  381  0.7424469640901762  0.03065007030836506 ...               -99.0   2.179\n",
       "  382   0.595698144412204 0.024351547974127398 ... 0.37845609336917724  2.2464\n",
       "  467  1.3896554641086565  0.05902694110294612 ...  0.2847030165853919  2.2193\n",
       "  ...                 ...                  ... ...                 ...     ...\n",
       " 3196  0.5474330982485021 0.022294911430149614 ...               -99.0  2.2417\n",
       " 3261  0.5447646893862567   0.0221814444788338 ...               -99.0  2.2535\n",
       " 3276   2.798837780992873  0.12285003580042436 ...  0.3086332543715459  2.2074\n",
       " 3331  0.7663760416583864  0.03168297002721904 ... 0.19446664666077348   2.223\n",
       " 3340  1.0373569130140732  0.04347649243825874 ...  0.2813400500580441  2.2346\n",
       " 3385  0.7813057158495142  0.03232817830195086 ...               -99.0  2.3004\n",
       " 3480    1.89526558724869  0.08167197688470751 ...               -99.0  2.1462\n",
       " 3495   1.118239552131933  0.04702701568692281 ... 0.20397464335798055  2.2312\n",
       " 3496  0.8560218224815838  0.03556563902196996 ...               -99.0  2.2358\n",
       " 3516  0.9453089578354528  0.03945187475927568 ... 0.17244602928534472  2.2339"
      ]
     },
     "execution_count": 40,
     "metadata": {},
     "output_type": "execute_result"
    }
   ],
   "source": [
    "eazy"
   ]
  },
  {
   "cell_type": "code",
   "execution_count": 32,
   "id": "stone-glass",
   "metadata": {},
   "outputs": [
    {
     "data": {
      "text/html": [
       "<i>Table length=71</i>\n",
       "<table id=\"table139771041111120\" class=\"table-striped table-bordered table-condensed\">\n",
       "<thead><tr><th>id</th><th>f125w_flux_aper_3</th><th>f125w_fluxerr_aper_3</th><th>f160w_flux_aper_3</th><th>f160w_fluxerr_aper_3</th><th>flux_best_U</th><th>fluxerr_best_U</th><th>flux_best_z</th><th>fluxerr_best_z</th><th>flux_best_Ks</th><th>fluxerr_best_Ks</th><th>z_spec</th></tr></thead>\n",
       "<thead><tr><th>int32</th><th>float64</th><th>float64</th><th>float64</th><th>float64</th><th>float64</th><th>float64</th><th>float64</th><th>float64</th><th>float64</th><th>float64</th><th>float64</th></tr></thead>\n",
       "<tr><td>10</td><td>0.05622924626030109</td><td>0.002080630895942121</td><td>0.14504599069937188</td><td>0.0055794997589200465</td><td>0.061793550848960876</td><td>0.011667624115943909</td><td>0.31658628582954407</td><td>0.04719769209623337</td><td>-99.0</td><td>-99.0</td><td>2.0745</td></tr>\n",
       "<tr><td>61</td><td>0.13712307696642737</td><td>0.0052623824755873684</td><td>0.1834422529183733</td><td>0.0071263921445881995</td><td>2.1614320278167725</td><td>0.05200577527284622</td><td>1.9544097185134888</td><td>0.07338385283946991</td><td>-99.0</td><td>-99.0</td><td>2.0575</td></tr>\n",
       "<tr><td>119</td><td>0.025127540982881596</td><td>0.0009006408136435094</td><td>0.05601217579665874</td><td>0.0020722766943315064</td><td>-99.0</td><td>-99.0</td><td>-99.0</td><td>-99.0</td><td>-99.0</td><td>-99.0</td><td>2.0074</td></tr>\n",
       "<tr><td>211</td><td>0.09208648670826276</td><td>0.0034763378361596566</td><td>0.16360050662629197</td><td>0.006325037745712209</td><td>0.12103328108787537</td><td>0.015996668487787247</td><td>0.6298847794532776</td><td>0.06470329314470291</td><td>-99.0</td><td>-99.0</td><td>2.436</td></tr>\n",
       "<tr><td>262</td><td>0.2916086625557146</td><td>0.011554349580695815</td><td>0.7600994341959509</td><td>0.031411892033039235</td><td>0.33733758330345154</td><td>0.022223200649023056</td><td>1.3031717538833618</td><td>0.08881016820669174</td><td>15.622840539708681</td><td>0.3352676119484324</td><td>2.2229</td></tr>\n",
       "<tr><td>284</td><td>0.08286684365868369</td><td>0.0031148208587174165</td><td>0.17247785726455886</td><td>0.006683072832739152</td><td>0.8140448331832886</td><td>0.01874999701976776</td><td>0.8078052997589111</td><td>0.06623725593090057</td><td>-99.0</td><td>-99.0</td><td>2.0064</td></tr>\n",
       "<tr><td>313</td><td>0.052933940425221225</td><td>0.001953955043950239</td><td>0.1393728137108988</td><td>0.005352350092716073</td><td>0.15054941177368164</td><td>0.01321849413216114</td><td>0.3824283480644226</td><td>0.052004069089889526</td><td>1.74759180700884</td><td>0.1773769874195882</td><td>2.2273</td></tr>\n",
       "<tr><td>381</td><td>0.07424469640901762</td><td>0.002778271966795919</td><td>0.12548538351430094</td><td>0.0047980309043114825</td><td>0.23810896277427673</td><td>0.01848226599395275</td><td>0.48493149876594543</td><td>0.07303189486265182</td><td>-99.0</td><td>-99.0</td><td>2.179</td></tr>\n",
       "<tr><td>382</td><td>0.059569814441220406</td><td>0.002209363353386359</td><td>0.15784918089066236</td><td>0.006093529146594471</td><td>-99.0</td><td>-99.0</td><td>-99.0</td><td>-99.0</td><td>8.420153329554074</td><td>0.37845609336917724</td><td>2.2464</td></tr>\n",
       "<tr><td>467</td><td>0.13896554641086567</td><td>0.005336058659378985</td><td>0.3264001315222846</td><td>0.012995899647492381</td><td>0.1088147684931755</td><td>0.014985187910497189</td><td>0.6219077706336975</td><td>0.06072065234184265</td><td>6.219564843271914</td><td>0.2847030165853919</td><td>2.2193</td></tr>\n",
       "<tr><td>...</td><td>...</td><td>...</td><td>...</td><td>...</td><td>...</td><td>...</td><td>...</td><td>...</td><td>...</td><td>...</td><td>...</td></tr>\n",
       "<tr><td>3196</td><td>0.05474330982485021</td><td>0.0020234701351964043</td><td>0.08771130676630591</td><td>0.003304578165166253</td><td>0.20282846689224243</td><td>0.021395809948444366</td><td>0.3812159299850464</td><td>0.04327096790075302</td><td>-99.0</td><td>-99.0</td><td>2.2417</td></tr>\n",
       "<tr><td>3261</td><td>0.05447646893862567</td><td>0.0020132121429664008</td><td>0.12468649292635445</td><td>0.004766220989777409</td><td>0.038397327065467834</td><td>0.011033855378627777</td><td>0.2673887014389038</td><td>0.0449787899851799</td><td>-99.0</td><td>-99.0</td><td>2.2535</td></tr>\n",
       "<tr><td>3276</td><td>0.2798837780992873</td><td>0.011070232837003459</td><td>0.47782064121915474</td><td>0.01934352603163464</td><td>0.8335814476013184</td><td>0.03167908266186714</td><td>2.643528461456299</td><td>0.07673907279968262</td><td>6.952163864388229</td><td>0.3086332543715459</td><td>2.2074</td></tr>\n",
       "<tr><td>3331</td><td>0.07663760416583865</td><td>0.0028715165460179133</td><td>0.13535537952799956</td><td>0.005191736560611216</td><td>0.23311638832092285</td><td>0.013770323246717453</td><td>0.5303582549095154</td><td>0.05311008542776108</td><td>2.084298903233054</td><td>0.19446664666077348</td><td>2.223</td></tr>\n",
       "<tr><td>3340</td><td>0.10373569130140732</td><td>0.003935318094290632</td><td>0.18479674395724965</td><td>0.0071812399091208045</td><td>0.23031075298786163</td><td>0.014329135417938232</td><td>0.6803421974182129</td><td>0.055935535579919815</td><td>3.7945475552358126</td><td>0.2813400500580441</td><td>2.2346</td></tr>\n",
       "<tr><td>3385</td><td>0.07813057158495142</td><td>0.002929755715023391</td><td>0.1636837940015828</td><td>0.006328392960027779</td><td>0.12562642991542816</td><td>0.020137641578912735</td><td>0.5112096667289734</td><td>0.08149570226669312</td><td>-99.0</td><td>-99.0</td><td>2.3004</td></tr>\n",
       "<tr><td>3480</td><td>0.18952655872486898</td><td>0.007372903228974771</td><td>0.30891455744564283</td><td>0.012270490541856586</td><td>0.41142821311950684</td><td>0.018070390447974205</td><td>1.5229641199111938</td><td>0.07071325927972794</td><td>-99.0</td><td>-99.0</td><td>2.1462</td></tr>\n",
       "<tr><td>3495</td><td>0.1118239552131933</td><td>0.004255313740143014</td><td>0.23196485650389115</td><td>0.009101499282818832</td><td>0.07776723057031631</td><td>0.017610149458050728</td><td>0.6821373701095581</td><td>0.07207867503166199</td><td>2.789202205873889</td><td>0.20397464335798055</td><td>2.2312</td></tr>\n",
       "<tr><td>3496</td><td>0.08560218224815838</td><td>0.0032219076963581387</td><td>0.14939612070671174</td><td>0.005753938062001467</td><td>0.22163885831832886</td><td>0.016384510323405266</td><td>0.5650596022605896</td><td>0.06456892937421799</td><td>-99.0</td><td>-99.0</td><td>2.2358</td></tr>\n",
       "<tr><td>3516</td><td>0.09453089578354527</td><td>0.0035724523468389485</td><td>0.1676131965197337</td><td>0.006486772241319877</td><td>0.15457606315612793</td><td>0.019239377230405807</td><td>0.852212131023407</td><td>0.07799152284860611</td><td>2.0943053396183378</td><td>0.17244602928534472</td><td>2.2339</td></tr>\n",
       "</table>"
      ],
      "text/plain": [
       "<Table length=71>\n",
       "  id   f125w_flux_aper_3    f125w_fluxerr_aper_3 ...   fluxerr_best_Ks    z_spec\n",
       "int32       float64               float64        ...       float64       float64\n",
       "----- -------------------- --------------------- ... ------------------- -------\n",
       "   10  0.05622924626030109  0.002080630895942121 ...               -99.0  2.0745\n",
       "   61  0.13712307696642737 0.0052623824755873684 ...               -99.0  2.0575\n",
       "  119 0.025127540982881596 0.0009006408136435094 ...               -99.0  2.0074\n",
       "  211  0.09208648670826276 0.0034763378361596566 ...               -99.0   2.436\n",
       "  262   0.2916086625557146  0.011554349580695815 ...  0.3352676119484324  2.2229\n",
       "  284  0.08286684365868369 0.0031148208587174165 ...               -99.0  2.0064\n",
       "  313 0.052933940425221225  0.001953955043950239 ...  0.1773769874195882  2.2273\n",
       "  381  0.07424469640901762  0.002778271966795919 ...               -99.0   2.179\n",
       "  382 0.059569814441220406  0.002209363353386359 ... 0.37845609336917724  2.2464\n",
       "  467  0.13896554641086567  0.005336058659378985 ...  0.2847030165853919  2.2193\n",
       "  ...                  ...                   ... ...                 ...     ...\n",
       " 3196  0.05474330982485021 0.0020234701351964043 ...               -99.0  2.2417\n",
       " 3261  0.05447646893862567 0.0020132121429664008 ...               -99.0  2.2535\n",
       " 3276   0.2798837780992873  0.011070232837003459 ...  0.3086332543715459  2.2074\n",
       " 3331  0.07663760416583865 0.0028715165460179133 ... 0.19446664666077348   2.223\n",
       " 3340  0.10373569130140732  0.003935318094290632 ...  0.2813400500580441  2.2346\n",
       " 3385  0.07813057158495142  0.002929755715023391 ...               -99.0  2.3004\n",
       " 3480  0.18952655872486898  0.007372903228974771 ...               -99.0  2.1462\n",
       " 3495   0.1118239552131933  0.004255313740143014 ... 0.20397464335798055  2.2312\n",
       " 3496  0.08560218224815838 0.0032219076963581387 ...               -99.0  2.2358\n",
       " 3516  0.09453089578354527 0.0035724523468389485 ... 0.17244602928534472  2.2339"
      ]
     },
     "execution_count": 32,
     "metadata": {},
     "output_type": "execute_result"
    }
   ],
   "source": [
    "eazy"
   ]
  },
  {
   "cell_type": "markdown",
   "id": "pleased-astrology",
   "metadata": {},
   "source": [
    "m = log10(flux)+ZPAB"
   ]
  }
 ],
 "metadata": {
  "kernelspec": {
   "display_name": "Tf_1",
   "language": "python",
   "name": "tf_1"
  },
  "language_info": {
   "codemirror_mode": {
    "name": "ipython",
    "version": 3
   },
   "file_extension": ".py",
   "mimetype": "text/x-python",
   "name": "python",
   "nbconvert_exporter": "python",
   "pygments_lexer": "ipython3",
   "version": "3.7.6"
  }
 },
 "nbformat": 4,
 "nbformat_minor": 5
}
