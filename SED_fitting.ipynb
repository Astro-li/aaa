{
 "cells": [
  {
   "cell_type": "code",
   "execution_count": 1,
   "id": "exterior-vanilla",
   "metadata": {},
   "outputs": [
    {
     "name": "stdout",
     "output_type": "stream",
     "text": [
      "Populating the interactive namespace from numpy and matplotlib\n"
     ]
    }
   ],
   "source": [
    "%pylab inline\n",
    "from astropy.io import fits\n",
    "from astropy.table import Table\n",
    "from astropy.wcs import WCS"
   ]
  },
  {
   "cell_type": "markdown",
   "id": "special-estimate",
   "metadata": {},
   "source": [
    "# Conversion between flux and AB magnitude\n",
    "\n",
    "The AB magnitude is defined as:\n",
    "$$\n",
    "m_{AB} = -2.5\\times log_{10}(F_{\\nu})-48.60 \\tag{1} \\label{eq1}\n",
    "$$\n",
    "\n",
    "where $F_{\\nu}$ is in unit of $erg\\ cm^{-2} s^{-1} Hz^{-1}$. Note: $1\\mu Jy=10^{-29}erg\\ cm^{-2} s^{-1} Hz^{-1}$.\n",
    "\n",
    "To calculate the AB magnitude with observaed signal:$$ m_{AB}=-2.5\\times log_{10}(F_c)+ZP_{AB}\\tag 2 \\label{eq2}$$\n",
    "\n",
    "\n",
    "$F_c$ is the counts in unit of photons/sec, and $ ZP_{AB}$ is the instrumental magnitudes: $ ZP_{AB} = -2.5\\times log_{10}(PHOTFLAM)-5 \\times log_{10}(PHOTPLAM)-2.408$\n",
    "\n",
    "Given the error of flux, the error of magnitude is: $$ \\sigma_m=\\lvert \\frac{dm}{dF}\\sigma_F\\rvert=\\frac{2.5}{ln{10}\\times F}\\tag 3\\label{eq3}$$\n",
    "\n",
    "We need $F_{\\nu}$ as the input to eazy, so we should use Equation (2) to get $m_{AB}$ first and convert it to flux in units of $\\mu Jy$ with Equation (1)."
   ]
  },
  {
   "cell_type": "markdown",
   "id": "piano-brook",
   "metadata": {},
   "source": [
    "aaaaaaaaaaaaaaa"
   ]
  },
  {
   "cell_type": "code",
   "execution_count": null,
   "id": "formed-flower",
   "metadata": {},
   "outputs": [],
   "source": [
    "hst_125w = fits.open('../boss1244_mosaics_coadd/boss1244_DR210308-f125w_drz_sci.fits.gz')\n",
    "hst_160w = fits.open('../boss1244_mosaics_coadd/boss1244_DR210308-f160w_drz_sci.fits.gz')\n",
    "\n",
    "PHOTFLAM_125w = hst_125w[0].header['PHOTFLAM']\n",
    "PHOTPLAM_125w = hst_125w[0].header['PHOTPLAM']\n",
    "\n",
    "PHOTFLAM_160w = hst_160w[0].header['PHOTFLAM']\n",
    "PHOTPLAM_160w = hst_160w[0].header['PHOTPLAM']\n",
    "\n",
    "zp125 = -2.5*log10(PHOTFLAM_125w)-5*log10(PHOTPLAM_125w)-2.408\n",
    "zp160 = -2.5*log10(PHOTFLAM_160w)-5*log10(PHOTPLAM_160w)-2.408\n",
    "\n",
    "flux125 = eazy['f125w_flux_aper_3']\n",
    "flux160 = eazy['f160w_flux_aper_3']\n",
    "\n",
    "def mag2flux(mag,magerr):\n",
    "    return 10**(-(mag+48.6)/2.5)/(1e-23)*1e6,abs(magerr*10**(-(mag+48.6)/2.5)*log(10)*(-1/2.5)/(1e-23)*1e6)"
   ]
  },
  {
   "cell_type": "code",
   "execution_count": null,
   "id": "hispanic-input",
   "metadata": {},
   "outputs": [],
   "source": [
    "jh = fits.open('../LBC_CFHT_1244_1542/boss1244_DR210308_zq_2to2.5_phot.fits')\n",
    "\n",
    "u1244 = fits.open('../LBC_CFHT_1244_1542/BOSS1244_U.cat.fits')\n",
    "z1244 = fits.open('../LBC_CFHT_1244_1542/BOSS1244_z.cat.fits')\n",
    "k1244 = loadtxt('../LBC_CFHT_1244_1542/j1244_emitter_50A_clean.cat')\n",
    "pecat = loadtxt('../LBC_CFHT_1244_1542/zq_2to2.5.pecat')\n",
    "pecat = pecat[argsort(pecat[:,0])]\n",
    "\n",
    "u1244_data = u1244[2].data\n",
    "z1244_data = z1244[2].data\n",
    "ra1244 = u1244_data[:]['X_WORLD']\n",
    "dec1244 = u1244_data[:]['Y_WORLD']\n",
    "\n",
    "magu = u1244_data[:]['MAG_BEST']\n",
    "magz = z1244_data[:]['MAG_BEST']\n",
    "magu_err = u1244_data[:]['MAGERR_BEST']\n",
    "magz_err = z1244_data[:]['MAGERR_BEST']\n",
    "magk = k1244[:,4]\n",
    "magk_err = k1244[:,5]\n",
    "magh = k1244[:,6]\n",
    "magh_err = k1244[:,7]"
   ]
  }
 ],
 "metadata": {
  "kernelspec": {
   "display_name": "Tf_1",
   "language": "python",
   "name": "tf_1"
  },
  "language_info": {
   "codemirror_mode": {
    "name": "ipython",
    "version": 3
   },
   "file_extension": ".py",
   "mimetype": "text/x-python",
   "name": "python",
   "nbconvert_exporter": "python",
   "pygments_lexer": "ipython3",
   "version": "3.7.6"
  }
 },
 "nbformat": 4,
 "nbformat_minor": 5
}
