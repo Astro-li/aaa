{
 "cells": [
  {
   "cell_type": "code",
   "execution_count": null,
   "id": "radio-vacuum",
   "metadata": {},
   "outputs": [],
   "source": [
    "%pylab inline\n",
    "from astropy.io import fits\n",
    "from astropy.table import Table\n",
    "from astropy.wcs import WCS"
   ]
  },
  {
   "cell_type": "markdown",
   "id": "effective-satin",
   "metadata": {},
   "source": [
    "$$ ZP_{AB} = -2.5\\times log_{10}(PHOTFLAM)-5 \\times log_{10}⁡(PHOTPLAM)-2.408 $$"
   ]
  },
  {
   "cell_type": "markdown",
   "id": "greenhouse-chile",
   "metadata": {},
   "source": [
    "$$ ZP_{AB} = -2.5\\times log_{10}(10)-5 \\times 2.408 $$"
   ]
  },
  {
   "cell_type": "markdown",
   "id": "disciplinary-order",
   "metadata": {},
   "source": [
    "$PHOTFLAM$"
   ]
  },
  {
   "cell_type": "markdown",
   "id": "mineral-oakland",
   "metadata": {},
   "source": [
    "$log_{10}⁡(PHOTPLAM)$"
   ]
  },
  {
   "cell_type": "markdown",
   "id": "every-vietnam",
   "metadata": {},
   "source": [
    "$\\alpha$"
   ]
  }
 ],
 "metadata": {
  "kernelspec": {
   "display_name": "Tf_1",
   "language": "python",
   "name": "tf_1"
  },
  "language_info": {
   "codemirror_mode": {
    "name": "ipython",
    "version": 3
   },
   "file_extension": ".py",
   "mimetype": "text/x-python",
   "name": "python",
   "nbconvert_exporter": "python",
   "pygments_lexer": "ipython3",
   "version": "3.7.6"
  }
 },
 "nbformat": 4,
 "nbformat_minor": 5
}
